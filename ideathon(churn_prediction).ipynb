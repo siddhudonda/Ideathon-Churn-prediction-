{
  "nbformat": 4,
  "nbformat_minor": 0,
  "metadata": {
    "colab": {
      "provenance": []
    },
    "kernelspec": {
      "name": "python3",
      "display_name": "Python 3"
    },
    "language_info": {
      "name": "python"
    }
  },
  "cells": [
    {
      "cell_type": "markdown",
      "source": [
        "#**Problem Statement** \n",
        "A telecommunications company wants to reduce customer churn rates by predicting which\n",
        "customers are most likely to leave the company based on their historical behavior and demographics. The company\n",
        "has collected a dataset of customer information, including demographics, services subscribed, and usage patterns.\n",
        "The goal of this project is to develop a machine learning model that can accurately predict which customers are\n",
        "most likely to churn, and to identify the key factors that contribute to churn.\n",
        "Data Description: The dataset contains the following features:\n",
        "- Customer demographics: age, gender, marital status, income level, education level, etc.\n",
        "- Service-related information: type of service subscribed, length of subscription, monthly charges, etc.\n",
        "- Usage-related information: number of calls made, number of texts sent, data usage, etc.\n",
        "- Churn status: whether the customer has churned or not (binary variable)."
      ],
      "metadata": {
        "id": "nsX0kWEG9tXP"
      }
    },
    {
      "cell_type": "markdown",
      "source": [
        "#**Developing a Predictive Churn Model for Telecommunications Customer Retention**\n",
        "\n",
        "This project focuses on developing a predictive model for a telecommunications company to identify and target customers at risk of churning. Customer churn, the loss of clients or customers, is a major concern for businesses in competitive industries like telecommunications. By developing a robust model to predict customer churn, the company can take proactive measures to retain valuable customers and maintain a stable revenue stream."
      ],
      "metadata": {
        "id": "8NGb2aXx-Lke"
      }
    },
    {
      "cell_type": "markdown",
      "source": [
        "#**Tasks**\n",
        "\n",
        "1. **Exploratory Data Analysis (EDA):** Perform exploratory data analysis to understand the distribution of variables, identify missing values, outliers, and correlations.\n",
        "2. **Feature Engineering:** Based on EDA, engineer relevant features from the available data to improve the\n",
        "performance of the model.\n",
        "3. **Data Preprocessing:** Clean and preprocess the data, handle missing values and outliers, encode categorical\n",
        "variables, and scale numerical features.\n",
        "4. **Model Selection:** Select appropriate machine learning algorithms (such as logistic regression, decision trees,\n",
        "random forests, or gradient boosting) and tune their hyperparameters using cross-validation.\n",
        "5. **Model Evaluation:** Evaluate the performance of the model using various metrics such as accuracy, precision,\n",
        "recall, F1 score, and ROC curve.\n",
        "6. **Interpretation:** Interpret the results of the model to identify the key factors that contribute to customer churn,\n",
        "and provide actionable insights to the company.\n",
        "7. **Deployment:** Deploy the model to a production environment and test its performance on new data.\n",
        "\n",
        "Overall, the project aims to provide the telecommunications company with a predictive tool that can help them to\n",
        "identify the customers who are most likely to churn and take proactive measures to retain them"
      ],
      "metadata": {
        "id": "RnJ2eavg-n6A"
      }
    },
    {
      "cell_type": "markdown",
      "source": [
        "#**IMPORT LIBRARIES**\n",
        "\n",
        "This code snippet is a Python script that includes various imports for data analysis and machine learning tasks. The script imports libraries and functions necessary to preprocess data, create models, select features, and evaluate model performance. Below is a description of each import and its purpose:"
      ],
      "metadata": {
        "id": "BvjgcLuPf8a7"
      }
    },
    {
      "cell_type": "code",
      "source": [
        "!pip install -q catboost\n",
        "!pip3 install scikit-optimize\n",
        "!pip3 install lifelines\n",
        "\n",
        "import pandas as pd\n",
        "import numpy as np\n",
        "from matplotlib import pyplot as plt\n",
        "from sklearn.model_selection import train_test_split\n",
        "from sklearn.ensemble import RandomForestClassifier, RandomForestRegressor\n",
        "from sklearn.feature_selection import SelectKBest, f_classif, f_regression\n",
        "from lifelines.utils import concordance_index\n",
        "from catboost import CatBoostRegressor\n",
        "from sklearn.ensemble import AdaBoostClassifier\n",
        "from sklearn.metrics import accuracy_score\n",
        "from sklearn.preprocessing import StandardScaler\n",
        "from sklearn.feature_selection import SelectKBest, mutual_info_classif\n",
        "from sklearn.model_selection import GridSearchCV\n",
        "import skopt\n",
        "from skopt import BayesSearchCV\n",
        "from skopt.space import Real, Integer\n",
        "from sklearn.model_selection import RandomizedSearchCV\n",
        "\n",
        "%matplotlib inline"
      ],
      "metadata": {
        "colab": {
          "base_uri": "https://localhost:8080/"
        },
        "id": "-54EuW2_gTRk",
        "outputId": "6bcbf3d2-119e-41e0-fa3c-15132c1536c4"
      },
      "execution_count": null,
      "outputs": [
        {
          "output_type": "stream",
          "name": "stdout",
          "text": [
            "Looking in indexes: https://pypi.org/simple, https://us-python.pkg.dev/colab-wheels/public/simple/\n",
            "Requirement already satisfied: scikit-optimize in /usr/local/lib/python3.10/dist-packages (0.9.0)\n",
            "Requirement already satisfied: numpy>=1.13.3 in /usr/local/lib/python3.10/dist-packages (from scikit-optimize) (1.22.4)\n",
            "Requirement already satisfied: scikit-learn>=0.20.0 in /usr/local/lib/python3.10/dist-packages (from scikit-optimize) (1.2.2)\n",
            "Requirement already satisfied: scipy>=0.19.1 in /usr/local/lib/python3.10/dist-packages (from scikit-optimize) (1.10.1)\n",
            "Requirement already satisfied: pyaml>=16.9 in /usr/local/lib/python3.10/dist-packages (from scikit-optimize) (23.5.8)\n",
            "Requirement already satisfied: joblib>=0.11 in /usr/local/lib/python3.10/dist-packages (from scikit-optimize) (1.2.0)\n",
            "Requirement already satisfied: PyYAML in /usr/local/lib/python3.10/dist-packages (from pyaml>=16.9->scikit-optimize) (6.0)\n",
            "Requirement already satisfied: threadpoolctl>=2.0.0 in /usr/local/lib/python3.10/dist-packages (from scikit-learn>=0.20.0->scikit-optimize) (3.1.0)\n",
            "Looking in indexes: https://pypi.org/simple, https://us-python.pkg.dev/colab-wheels/public/simple/\n",
            "Requirement already satisfied: lifelines in /usr/local/lib/python3.10/dist-packages (0.27.7)\n",
            "Requirement already satisfied: numpy>=1.14.0 in /usr/local/lib/python3.10/dist-packages (from lifelines) (1.22.4)\n",
            "Requirement already satisfied: autograd>=1.5 in /usr/local/lib/python3.10/dist-packages (from lifelines) (1.5)\n",
            "Requirement already satisfied: autograd-gamma>=0.3 in /usr/local/lib/python3.10/dist-packages (from lifelines) (0.5.0)\n",
            "Requirement already satisfied: pandas>=1.0.0 in /usr/local/lib/python3.10/dist-packages (from lifelines) (1.5.3)\n",
            "Requirement already satisfied: matplotlib>=3.0 in /usr/local/lib/python3.10/dist-packages (from lifelines) (3.7.1)\n",
            "Requirement already satisfied: formulaic>=0.2.2 in /usr/local/lib/python3.10/dist-packages (from lifelines) (0.6.1)\n",
            "Requirement already satisfied: scipy>=1.2.0 in /usr/local/lib/python3.10/dist-packages (from lifelines) (1.10.1)\n",
            "Requirement already satisfied: future>=0.15.2 in /usr/local/lib/python3.10/dist-packages (from autograd>=1.5->lifelines) (0.18.3)\n",
            "Requirement already satisfied: astor>=0.8 in /usr/local/lib/python3.10/dist-packages (from formulaic>=0.2.2->lifelines) (0.8.1)\n",
            "Requirement already satisfied: wrapt>=1.0 in /usr/local/lib/python3.10/dist-packages (from formulaic>=0.2.2->lifelines) (1.14.1)\n",
            "Requirement already satisfied: typing-extensions>=4.2.0 in /usr/local/lib/python3.10/dist-packages (from formulaic>=0.2.2->lifelines) (4.5.0)\n",
            "Requirement already satisfied: interface-meta>=1.2.0 in /usr/local/lib/python3.10/dist-packages (from formulaic>=0.2.2->lifelines) (1.3.0)\n",
            "Requirement already satisfied: python-dateutil>=2.7 in /usr/local/lib/python3.10/dist-packages (from matplotlib>=3.0->lifelines) (2.8.2)\n",
            "Requirement already satisfied: pillow>=6.2.0 in /usr/local/lib/python3.10/dist-packages (from matplotlib>=3.0->lifelines) (8.4.0)\n",
            "Requirement already satisfied: packaging>=20.0 in /usr/local/lib/python3.10/dist-packages (from matplotlib>=3.0->lifelines) (23.1)\n",
            "Requirement already satisfied: kiwisolver>=1.0.1 in /usr/local/lib/python3.10/dist-packages (from matplotlib>=3.0->lifelines) (1.4.4)\n",
            "Requirement already satisfied: pyparsing>=2.3.1 in /usr/local/lib/python3.10/dist-packages (from matplotlib>=3.0->lifelines) (3.0.9)\n",
            "Requirement already satisfied: cycler>=0.10 in /usr/local/lib/python3.10/dist-packages (from matplotlib>=3.0->lifelines) (0.11.0)\n",
            "Requirement already satisfied: contourpy>=1.0.1 in /usr/local/lib/python3.10/dist-packages (from matplotlib>=3.0->lifelines) (1.0.7)\n",
            "Requirement already satisfied: fonttools>=4.22.0 in /usr/local/lib/python3.10/dist-packages (from matplotlib>=3.0->lifelines) (4.39.3)\n",
            "Requirement already satisfied: pytz>=2020.1 in /usr/local/lib/python3.10/dist-packages (from pandas>=1.0.0->lifelines) (2022.7.1)\n",
            "Requirement already satisfied: six>=1.5 in /usr/local/lib/python3.10/dist-packages (from python-dateutil>=2.7->matplotlib>=3.0->lifelines) (1.16.0)\n"
          ]
        }
      ]
    },
    {
      "cell_type": "markdown",
      "source": [
        "#**EDA (Exploratory Data Analysis)**\n",
        "\n",
        "In the initial phase of the project, we have completed a comprehensive Exploratory Data Analysis (EDA) to gain a thorough understanding of the dataset and inform subsequent modeling steps. The following tasks have been performed during the EDA:\n",
        "\n",
        "* **Loading Data:** The dataset has been loaded into the appropriate data structures for further analysis.\n",
        "\n",
        "* **Removing Duplicates and Unnecessary Columns:** Duplicate entries have been identified and removed to ensure data integrity. The 'customerID' column, which does not contribute to the model's predictive power, has also been dropped.\n",
        "\n",
        "* **Data Type Conversion:** The 'TotalCharges' column has been converted to a numeric data type, allowing for seamless integration with other numerical features.\n",
        "\n",
        "* **Handling Missing Values:** Missing values in the 'TotalCharges' column have been imputed with the median value, ensuring a robust representation of the data.\n",
        "\n",
        "* **Feature Engineering:** A new feature, 'MonthlyCharges_Tenure_Product', has been created by multiplying 'MonthlyCharges' and 'tenure'. This feature aims to capture additional information that may be helpful in predicting customer churn.\n",
        "\n",
        "* **One-Hot Encoding:** Categorical variables have been one-hot encoded, transforming them into a binary format suitable for machine learning algorithms.\n",
        "\n",
        "* **Mapping Target Variable:** The target variable, 'Churn', has been mapped to a boolean format, ensuring consistency and compatibility with machine learning models.\n",
        "\n",
        "* **Identifying Time and Event Columns:** The relevant time and event columns have been identified, providing clarity on the key features to focus on during the modeling process."
      ],
      "metadata": {
        "id": "2Tv-DiM3_PfV"
      }
    },
    {
      "cell_type": "markdown",
      "source": [
        "#####**LOAD** **DATA**\n"
      ],
      "metadata": {
        "id": "2YATqdpmgaXD"
      }
    },
    {
      "cell_type": "code",
      "source": [
        "churn_data = pd.read_csv('/content/churn.csv')"
      ],
      "metadata": {
        "id": "k4dXwdpMgc_j"
      },
      "execution_count": null,
      "outputs": []
    },
    {
      "cell_type": "code",
      "source": [
        "churn_data.head()"
      ],
      "metadata": {
        "colab": {
          "base_uri": "https://localhost:8080/",
          "height": 334
        },
        "id": "iuJtEpBFCGTE",
        "outputId": "adcad34e-1094-4277-feaa-b796db9b1211"
      },
      "execution_count": null,
      "outputs": [
        {
          "output_type": "execute_result",
          "data": {
            "text/plain": [
              "   SeniorCitizen  tenure  MonthlyCharges  TotalCharges  Churn  MC_Tenure  \\\n",
              "0              0       1           29.85         29.85  False      29.85   \n",
              "1              0      34           56.95       1889.50  False    1936.30   \n",
              "2              0       2           53.85        108.15   True     107.70   \n",
              "3              0      45           42.30       1840.75  False    1903.50   \n",
              "4              0       2           70.70        151.65   True     141.40   \n",
              "\n",
              "   gender_Male  Partner_Yes  Dependents_Yes  PhoneService_Yes  ...  \\\n",
              "0          0.0          1.0             0.0               0.0  ...   \n",
              "1          1.0          0.0             0.0               1.0  ...   \n",
              "2          1.0          0.0             0.0               1.0  ...   \n",
              "3          1.0          0.0             0.0               0.0  ...   \n",
              "4          0.0          0.0             0.0               1.0  ...   \n",
              "\n",
              "   StreamingTV_No internet service  StreamingTV_Yes  \\\n",
              "0                              0.0              0.0   \n",
              "1                              0.0              0.0   \n",
              "2                              0.0              0.0   \n",
              "3                              0.0              0.0   \n",
              "4                              0.0              0.0   \n",
              "\n",
              "   StreamingMovies_No internet service  StreamingMovies_Yes  \\\n",
              "0                                  0.0                  0.0   \n",
              "1                                  0.0                  0.0   \n",
              "2                                  0.0                  0.0   \n",
              "3                                  0.0                  0.0   \n",
              "4                                  0.0                  0.0   \n",
              "\n",
              "   Contract_One year  Contract_Two year  PaperlessBilling_Yes  \\\n",
              "0                0.0                0.0                   1.0   \n",
              "1                1.0                0.0                   0.0   \n",
              "2                0.0                0.0                   1.0   \n",
              "3                1.0                0.0                   0.0   \n",
              "4                0.0                0.0                   1.0   \n",
              "\n",
              "   PaymentMethod_Credit card (automatic)  PaymentMethod_Electronic check  \\\n",
              "0                                    0.0                             1.0   \n",
              "1                                    0.0                             0.0   \n",
              "2                                    0.0                             0.0   \n",
              "3                                    0.0                             0.0   \n",
              "4                                    0.0                             1.0   \n",
              "\n",
              "   PaymentMethod_Mailed check  \n",
              "0                         0.0  \n",
              "1                         1.0  \n",
              "2                         1.0  \n",
              "3                         0.0  \n",
              "4                         0.0  \n",
              "\n",
              "[5 rows x 32 columns]"
            ],
            "text/html": [
              "\n",
              "  <div id=\"df-5c8dce54-cf6c-41d6-a574-74869cfb0ef2\">\n",
              "    <div class=\"colab-df-container\">\n",
              "      <div>\n",
              "<style scoped>\n",
              "    .dataframe tbody tr th:only-of-type {\n",
              "        vertical-align: middle;\n",
              "    }\n",
              "\n",
              "    .dataframe tbody tr th {\n",
              "        vertical-align: top;\n",
              "    }\n",
              "\n",
              "    .dataframe thead th {\n",
              "        text-align: right;\n",
              "    }\n",
              "</style>\n",
              "<table border=\"1\" class=\"dataframe\">\n",
              "  <thead>\n",
              "    <tr style=\"text-align: right;\">\n",
              "      <th></th>\n",
              "      <th>SeniorCitizen</th>\n",
              "      <th>tenure</th>\n",
              "      <th>MonthlyCharges</th>\n",
              "      <th>TotalCharges</th>\n",
              "      <th>Churn</th>\n",
              "      <th>MC_Tenure</th>\n",
              "      <th>gender_Male</th>\n",
              "      <th>Partner_Yes</th>\n",
              "      <th>Dependents_Yes</th>\n",
              "      <th>PhoneService_Yes</th>\n",
              "      <th>...</th>\n",
              "      <th>StreamingTV_No internet service</th>\n",
              "      <th>StreamingTV_Yes</th>\n",
              "      <th>StreamingMovies_No internet service</th>\n",
              "      <th>StreamingMovies_Yes</th>\n",
              "      <th>Contract_One year</th>\n",
              "      <th>Contract_Two year</th>\n",
              "      <th>PaperlessBilling_Yes</th>\n",
              "      <th>PaymentMethod_Credit card (automatic)</th>\n",
              "      <th>PaymentMethod_Electronic check</th>\n",
              "      <th>PaymentMethod_Mailed check</th>\n",
              "    </tr>\n",
              "  </thead>\n",
              "  <tbody>\n",
              "    <tr>\n",
              "      <th>0</th>\n",
              "      <td>0</td>\n",
              "      <td>1</td>\n",
              "      <td>29.85</td>\n",
              "      <td>29.85</td>\n",
              "      <td>False</td>\n",
              "      <td>29.85</td>\n",
              "      <td>0.0</td>\n",
              "      <td>1.0</td>\n",
              "      <td>0.0</td>\n",
              "      <td>0.0</td>\n",
              "      <td>...</td>\n",
              "      <td>0.0</td>\n",
              "      <td>0.0</td>\n",
              "      <td>0.0</td>\n",
              "      <td>0.0</td>\n",
              "      <td>0.0</td>\n",
              "      <td>0.0</td>\n",
              "      <td>1.0</td>\n",
              "      <td>0.0</td>\n",
              "      <td>1.0</td>\n",
              "      <td>0.0</td>\n",
              "    </tr>\n",
              "    <tr>\n",
              "      <th>1</th>\n",
              "      <td>0</td>\n",
              "      <td>34</td>\n",
              "      <td>56.95</td>\n",
              "      <td>1889.50</td>\n",
              "      <td>False</td>\n",
              "      <td>1936.30</td>\n",
              "      <td>1.0</td>\n",
              "      <td>0.0</td>\n",
              "      <td>0.0</td>\n",
              "      <td>1.0</td>\n",
              "      <td>...</td>\n",
              "      <td>0.0</td>\n",
              "      <td>0.0</td>\n",
              "      <td>0.0</td>\n",
              "      <td>0.0</td>\n",
              "      <td>1.0</td>\n",
              "      <td>0.0</td>\n",
              "      <td>0.0</td>\n",
              "      <td>0.0</td>\n",
              "      <td>0.0</td>\n",
              "      <td>1.0</td>\n",
              "    </tr>\n",
              "    <tr>\n",
              "      <th>2</th>\n",
              "      <td>0</td>\n",
              "      <td>2</td>\n",
              "      <td>53.85</td>\n",
              "      <td>108.15</td>\n",
              "      <td>True</td>\n",
              "      <td>107.70</td>\n",
              "      <td>1.0</td>\n",
              "      <td>0.0</td>\n",
              "      <td>0.0</td>\n",
              "      <td>1.0</td>\n",
              "      <td>...</td>\n",
              "      <td>0.0</td>\n",
              "      <td>0.0</td>\n",
              "      <td>0.0</td>\n",
              "      <td>0.0</td>\n",
              "      <td>0.0</td>\n",
              "      <td>0.0</td>\n",
              "      <td>1.0</td>\n",
              "      <td>0.0</td>\n",
              "      <td>0.0</td>\n",
              "      <td>1.0</td>\n",
              "    </tr>\n",
              "    <tr>\n",
              "      <th>3</th>\n",
              "      <td>0</td>\n",
              "      <td>45</td>\n",
              "      <td>42.30</td>\n",
              "      <td>1840.75</td>\n",
              "      <td>False</td>\n",
              "      <td>1903.50</td>\n",
              "      <td>1.0</td>\n",
              "      <td>0.0</td>\n",
              "      <td>0.0</td>\n",
              "      <td>0.0</td>\n",
              "      <td>...</td>\n",
              "      <td>0.0</td>\n",
              "      <td>0.0</td>\n",
              "      <td>0.0</td>\n",
              "      <td>0.0</td>\n",
              "      <td>1.0</td>\n",
              "      <td>0.0</td>\n",
              "      <td>0.0</td>\n",
              "      <td>0.0</td>\n",
              "      <td>0.0</td>\n",
              "      <td>0.0</td>\n",
              "    </tr>\n",
              "    <tr>\n",
              "      <th>4</th>\n",
              "      <td>0</td>\n",
              "      <td>2</td>\n",
              "      <td>70.70</td>\n",
              "      <td>151.65</td>\n",
              "      <td>True</td>\n",
              "      <td>141.40</td>\n",
              "      <td>0.0</td>\n",
              "      <td>0.0</td>\n",
              "      <td>0.0</td>\n",
              "      <td>1.0</td>\n",
              "      <td>...</td>\n",
              "      <td>0.0</td>\n",
              "      <td>0.0</td>\n",
              "      <td>0.0</td>\n",
              "      <td>0.0</td>\n",
              "      <td>0.0</td>\n",
              "      <td>0.0</td>\n",
              "      <td>1.0</td>\n",
              "      <td>0.0</td>\n",
              "      <td>1.0</td>\n",
              "      <td>0.0</td>\n",
              "    </tr>\n",
              "  </tbody>\n",
              "</table>\n",
              "<p>5 rows × 32 columns</p>\n",
              "</div>\n",
              "      <button class=\"colab-df-convert\" onclick=\"convertToInteractive('df-5c8dce54-cf6c-41d6-a574-74869cfb0ef2')\"\n",
              "              title=\"Convert this dataframe to an interactive table.\"\n",
              "              style=\"display:none;\">\n",
              "        \n",
              "  <svg xmlns=\"http://www.w3.org/2000/svg\" height=\"24px\"viewBox=\"0 0 24 24\"\n",
              "       width=\"24px\">\n",
              "    <path d=\"M0 0h24v24H0V0z\" fill=\"none\"/>\n",
              "    <path d=\"M18.56 5.44l.94 2.06.94-2.06 2.06-.94-2.06-.94-.94-2.06-.94 2.06-2.06.94zm-11 1L8.5 8.5l.94-2.06 2.06-.94-2.06-.94L8.5 2.5l-.94 2.06-2.06.94zm10 10l.94 2.06.94-2.06 2.06-.94-2.06-.94-.94-2.06-.94 2.06-2.06.94z\"/><path d=\"M17.41 7.96l-1.37-1.37c-.4-.4-.92-.59-1.43-.59-.52 0-1.04.2-1.43.59L10.3 9.45l-7.72 7.72c-.78.78-.78 2.05 0 2.83L4 21.41c.39.39.9.59 1.41.59.51 0 1.02-.2 1.41-.59l7.78-7.78 2.81-2.81c.8-.78.8-2.07 0-2.86zM5.41 20L4 18.59l7.72-7.72 1.47 1.35L5.41 20z\"/>\n",
              "  </svg>\n",
              "      </button>\n",
              "      \n",
              "  <style>\n",
              "    .colab-df-container {\n",
              "      display:flex;\n",
              "      flex-wrap:wrap;\n",
              "      gap: 12px;\n",
              "    }\n",
              "\n",
              "    .colab-df-convert {\n",
              "      background-color: #E8F0FE;\n",
              "      border: none;\n",
              "      border-radius: 50%;\n",
              "      cursor: pointer;\n",
              "      display: none;\n",
              "      fill: #1967D2;\n",
              "      height: 32px;\n",
              "      padding: 0 0 0 0;\n",
              "      width: 32px;\n",
              "    }\n",
              "\n",
              "    .colab-df-convert:hover {\n",
              "      background-color: #E2EBFA;\n",
              "      box-shadow: 0px 1px 2px rgba(60, 64, 67, 0.3), 0px 1px 3px 1px rgba(60, 64, 67, 0.15);\n",
              "      fill: #174EA6;\n",
              "    }\n",
              "\n",
              "    [theme=dark] .colab-df-convert {\n",
              "      background-color: #3B4455;\n",
              "      fill: #D2E3FC;\n",
              "    }\n",
              "\n",
              "    [theme=dark] .colab-df-convert:hover {\n",
              "      background-color: #434B5C;\n",
              "      box-shadow: 0px 1px 3px 1px rgba(0, 0, 0, 0.15);\n",
              "      filter: drop-shadow(0px 1px 2px rgba(0, 0, 0, 0.3));\n",
              "      fill: #FFFFFF;\n",
              "    }\n",
              "  </style>\n",
              "\n",
              "      <script>\n",
              "        const buttonEl =\n",
              "          document.querySelector('#df-5c8dce54-cf6c-41d6-a574-74869cfb0ef2 button.colab-df-convert');\n",
              "        buttonEl.style.display =\n",
              "          google.colab.kernel.accessAllowed ? 'block' : 'none';\n",
              "\n",
              "        async function convertToInteractive(key) {\n",
              "          const element = document.querySelector('#df-5c8dce54-cf6c-41d6-a574-74869cfb0ef2');\n",
              "          const dataTable =\n",
              "            await google.colab.kernel.invokeFunction('convertToInteractive',\n",
              "                                                     [key], {});\n",
              "          if (!dataTable) return;\n",
              "\n",
              "          const docLinkHtml = 'Like what you see? Visit the ' +\n",
              "            '<a target=\"_blank\" href=https://colab.research.google.com/notebooks/data_table.ipynb>data table notebook</a>'\n",
              "            + ' to learn more about interactive tables.';\n",
              "          element.innerHTML = '';\n",
              "          dataTable['output_type'] = 'display_data';\n",
              "          await google.colab.output.renderOutput(dataTable, element);\n",
              "          const docLink = document.createElement('div');\n",
              "          docLink.innerHTML = docLinkHtml;\n",
              "          element.appendChild(docLink);\n",
              "        }\n",
              "      </script>\n",
              "    </div>\n",
              "  </div>\n",
              "  "
            ]
          },
          "metadata": {},
          "execution_count": 33
        }
      ]
    },
    {
      "cell_type": "code",
      "source": [
        "churn_data.tail()"
      ],
      "metadata": {
        "colab": {
          "base_uri": "https://localhost:8080/",
          "height": 334
        },
        "id": "Z8s-thr5CNBk",
        "outputId": "198376b9-d6d5-45f6-ed34-31857aaa2a30"
      },
      "execution_count": null,
      "outputs": [
        {
          "output_type": "execute_result",
          "data": {
            "text/plain": [
              "      SeniorCitizen  tenure  MonthlyCharges  TotalCharges  Churn  MC_Tenure  \\\n",
              "7038              0      24           84.80       1990.50  False     2035.2   \n",
              "7039              0      72          103.20       7362.90  False     7430.4   \n",
              "7040              0      11           29.60        346.45  False      325.6   \n",
              "7041              1       4           74.40        306.60   True      297.6   \n",
              "7042              0      66          105.65       6844.50  False     6972.9   \n",
              "\n",
              "      gender_Male  Partner_Yes  Dependents_Yes  PhoneService_Yes  ...  \\\n",
              "7038          1.0          1.0             1.0               1.0  ...   \n",
              "7039          0.0          1.0             1.0               1.0  ...   \n",
              "7040          0.0          1.0             1.0               0.0  ...   \n",
              "7041          1.0          1.0             0.0               1.0  ...   \n",
              "7042          1.0          0.0             0.0               1.0  ...   \n",
              "\n",
              "      StreamingTV_No internet service  StreamingTV_Yes  \\\n",
              "7038                              0.0              1.0   \n",
              "7039                              0.0              1.0   \n",
              "7040                              0.0              0.0   \n",
              "7041                              0.0              0.0   \n",
              "7042                              0.0              1.0   \n",
              "\n",
              "      StreamingMovies_No internet service  StreamingMovies_Yes  \\\n",
              "7038                                  0.0                  1.0   \n",
              "7039                                  0.0                  1.0   \n",
              "7040                                  0.0                  0.0   \n",
              "7041                                  0.0                  0.0   \n",
              "7042                                  0.0                  1.0   \n",
              "\n",
              "      Contract_One year  Contract_Two year  PaperlessBilling_Yes  \\\n",
              "7038                1.0                0.0                   1.0   \n",
              "7039                1.0                0.0                   1.0   \n",
              "7040                0.0                0.0                   1.0   \n",
              "7041                0.0                0.0                   1.0   \n",
              "7042                0.0                1.0                   1.0   \n",
              "\n",
              "      PaymentMethod_Credit card (automatic)  PaymentMethod_Electronic check  \\\n",
              "7038                                    0.0                             0.0   \n",
              "7039                                    1.0                             0.0   \n",
              "7040                                    0.0                             1.0   \n",
              "7041                                    0.0                             0.0   \n",
              "7042                                    0.0                             0.0   \n",
              "\n",
              "      PaymentMethod_Mailed check  \n",
              "7038                         1.0  \n",
              "7039                         0.0  \n",
              "7040                         0.0  \n",
              "7041                         1.0  \n",
              "7042                         0.0  \n",
              "\n",
              "[5 rows x 32 columns]"
            ],
            "text/html": [
              "\n",
              "  <div id=\"df-37fb3030-b950-4a82-b93b-54569ec8c11f\">\n",
              "    <div class=\"colab-df-container\">\n",
              "      <div>\n",
              "<style scoped>\n",
              "    .dataframe tbody tr th:only-of-type {\n",
              "        vertical-align: middle;\n",
              "    }\n",
              "\n",
              "    .dataframe tbody tr th {\n",
              "        vertical-align: top;\n",
              "    }\n",
              "\n",
              "    .dataframe thead th {\n",
              "        text-align: right;\n",
              "    }\n",
              "</style>\n",
              "<table border=\"1\" class=\"dataframe\">\n",
              "  <thead>\n",
              "    <tr style=\"text-align: right;\">\n",
              "      <th></th>\n",
              "      <th>SeniorCitizen</th>\n",
              "      <th>tenure</th>\n",
              "      <th>MonthlyCharges</th>\n",
              "      <th>TotalCharges</th>\n",
              "      <th>Churn</th>\n",
              "      <th>MC_Tenure</th>\n",
              "      <th>gender_Male</th>\n",
              "      <th>Partner_Yes</th>\n",
              "      <th>Dependents_Yes</th>\n",
              "      <th>PhoneService_Yes</th>\n",
              "      <th>...</th>\n",
              "      <th>StreamingTV_No internet service</th>\n",
              "      <th>StreamingTV_Yes</th>\n",
              "      <th>StreamingMovies_No internet service</th>\n",
              "      <th>StreamingMovies_Yes</th>\n",
              "      <th>Contract_One year</th>\n",
              "      <th>Contract_Two year</th>\n",
              "      <th>PaperlessBilling_Yes</th>\n",
              "      <th>PaymentMethod_Credit card (automatic)</th>\n",
              "      <th>PaymentMethod_Electronic check</th>\n",
              "      <th>PaymentMethod_Mailed check</th>\n",
              "    </tr>\n",
              "  </thead>\n",
              "  <tbody>\n",
              "    <tr>\n",
              "      <th>7038</th>\n",
              "      <td>0</td>\n",
              "      <td>24</td>\n",
              "      <td>84.80</td>\n",
              "      <td>1990.50</td>\n",
              "      <td>False</td>\n",
              "      <td>2035.2</td>\n",
              "      <td>1.0</td>\n",
              "      <td>1.0</td>\n",
              "      <td>1.0</td>\n",
              "      <td>1.0</td>\n",
              "      <td>...</td>\n",
              "      <td>0.0</td>\n",
              "      <td>1.0</td>\n",
              "      <td>0.0</td>\n",
              "      <td>1.0</td>\n",
              "      <td>1.0</td>\n",
              "      <td>0.0</td>\n",
              "      <td>1.0</td>\n",
              "      <td>0.0</td>\n",
              "      <td>0.0</td>\n",
              "      <td>1.0</td>\n",
              "    </tr>\n",
              "    <tr>\n",
              "      <th>7039</th>\n",
              "      <td>0</td>\n",
              "      <td>72</td>\n",
              "      <td>103.20</td>\n",
              "      <td>7362.90</td>\n",
              "      <td>False</td>\n",
              "      <td>7430.4</td>\n",
              "      <td>0.0</td>\n",
              "      <td>1.0</td>\n",
              "      <td>1.0</td>\n",
              "      <td>1.0</td>\n",
              "      <td>...</td>\n",
              "      <td>0.0</td>\n",
              "      <td>1.0</td>\n",
              "      <td>0.0</td>\n",
              "      <td>1.0</td>\n",
              "      <td>1.0</td>\n",
              "      <td>0.0</td>\n",
              "      <td>1.0</td>\n",
              "      <td>1.0</td>\n",
              "      <td>0.0</td>\n",
              "      <td>0.0</td>\n",
              "    </tr>\n",
              "    <tr>\n",
              "      <th>7040</th>\n",
              "      <td>0</td>\n",
              "      <td>11</td>\n",
              "      <td>29.60</td>\n",
              "      <td>346.45</td>\n",
              "      <td>False</td>\n",
              "      <td>325.6</td>\n",
              "      <td>0.0</td>\n",
              "      <td>1.0</td>\n",
              "      <td>1.0</td>\n",
              "      <td>0.0</td>\n",
              "      <td>...</td>\n",
              "      <td>0.0</td>\n",
              "      <td>0.0</td>\n",
              "      <td>0.0</td>\n",
              "      <td>0.0</td>\n",
              "      <td>0.0</td>\n",
              "      <td>0.0</td>\n",
              "      <td>1.0</td>\n",
              "      <td>0.0</td>\n",
              "      <td>1.0</td>\n",
              "      <td>0.0</td>\n",
              "    </tr>\n",
              "    <tr>\n",
              "      <th>7041</th>\n",
              "      <td>1</td>\n",
              "      <td>4</td>\n",
              "      <td>74.40</td>\n",
              "      <td>306.60</td>\n",
              "      <td>True</td>\n",
              "      <td>297.6</td>\n",
              "      <td>1.0</td>\n",
              "      <td>1.0</td>\n",
              "      <td>0.0</td>\n",
              "      <td>1.0</td>\n",
              "      <td>...</td>\n",
              "      <td>0.0</td>\n",
              "      <td>0.0</td>\n",
              "      <td>0.0</td>\n",
              "      <td>0.0</td>\n",
              "      <td>0.0</td>\n",
              "      <td>0.0</td>\n",
              "      <td>1.0</td>\n",
              "      <td>0.0</td>\n",
              "      <td>0.0</td>\n",
              "      <td>1.0</td>\n",
              "    </tr>\n",
              "    <tr>\n",
              "      <th>7042</th>\n",
              "      <td>0</td>\n",
              "      <td>66</td>\n",
              "      <td>105.65</td>\n",
              "      <td>6844.50</td>\n",
              "      <td>False</td>\n",
              "      <td>6972.9</td>\n",
              "      <td>1.0</td>\n",
              "      <td>0.0</td>\n",
              "      <td>0.0</td>\n",
              "      <td>1.0</td>\n",
              "      <td>...</td>\n",
              "      <td>0.0</td>\n",
              "      <td>1.0</td>\n",
              "      <td>0.0</td>\n",
              "      <td>1.0</td>\n",
              "      <td>0.0</td>\n",
              "      <td>1.0</td>\n",
              "      <td>1.0</td>\n",
              "      <td>0.0</td>\n",
              "      <td>0.0</td>\n",
              "      <td>0.0</td>\n",
              "    </tr>\n",
              "  </tbody>\n",
              "</table>\n",
              "<p>5 rows × 32 columns</p>\n",
              "</div>\n",
              "      <button class=\"colab-df-convert\" onclick=\"convertToInteractive('df-37fb3030-b950-4a82-b93b-54569ec8c11f')\"\n",
              "              title=\"Convert this dataframe to an interactive table.\"\n",
              "              style=\"display:none;\">\n",
              "        \n",
              "  <svg xmlns=\"http://www.w3.org/2000/svg\" height=\"24px\"viewBox=\"0 0 24 24\"\n",
              "       width=\"24px\">\n",
              "    <path d=\"M0 0h24v24H0V0z\" fill=\"none\"/>\n",
              "    <path d=\"M18.56 5.44l.94 2.06.94-2.06 2.06-.94-2.06-.94-.94-2.06-.94 2.06-2.06.94zm-11 1L8.5 8.5l.94-2.06 2.06-.94-2.06-.94L8.5 2.5l-.94 2.06-2.06.94zm10 10l.94 2.06.94-2.06 2.06-.94-2.06-.94-.94-2.06-.94 2.06-2.06.94z\"/><path d=\"M17.41 7.96l-1.37-1.37c-.4-.4-.92-.59-1.43-.59-.52 0-1.04.2-1.43.59L10.3 9.45l-7.72 7.72c-.78.78-.78 2.05 0 2.83L4 21.41c.39.39.9.59 1.41.59.51 0 1.02-.2 1.41-.59l7.78-7.78 2.81-2.81c.8-.78.8-2.07 0-2.86zM5.41 20L4 18.59l7.72-7.72 1.47 1.35L5.41 20z\"/>\n",
              "  </svg>\n",
              "      </button>\n",
              "      \n",
              "  <style>\n",
              "    .colab-df-container {\n",
              "      display:flex;\n",
              "      flex-wrap:wrap;\n",
              "      gap: 12px;\n",
              "    }\n",
              "\n",
              "    .colab-df-convert {\n",
              "      background-color: #E8F0FE;\n",
              "      border: none;\n",
              "      border-radius: 50%;\n",
              "      cursor: pointer;\n",
              "      display: none;\n",
              "      fill: #1967D2;\n",
              "      height: 32px;\n",
              "      padding: 0 0 0 0;\n",
              "      width: 32px;\n",
              "    }\n",
              "\n",
              "    .colab-df-convert:hover {\n",
              "      background-color: #E2EBFA;\n",
              "      box-shadow: 0px 1px 2px rgba(60, 64, 67, 0.3), 0px 1px 3px 1px rgba(60, 64, 67, 0.15);\n",
              "      fill: #174EA6;\n",
              "    }\n",
              "\n",
              "    [theme=dark] .colab-df-convert {\n",
              "      background-color: #3B4455;\n",
              "      fill: #D2E3FC;\n",
              "    }\n",
              "\n",
              "    [theme=dark] .colab-df-convert:hover {\n",
              "      background-color: #434B5C;\n",
              "      box-shadow: 0px 1px 3px 1px rgba(0, 0, 0, 0.15);\n",
              "      filter: drop-shadow(0px 1px 2px rgba(0, 0, 0, 0.3));\n",
              "      fill: #FFFFFF;\n",
              "    }\n",
              "  </style>\n",
              "\n",
              "      <script>\n",
              "        const buttonEl =\n",
              "          document.querySelector('#df-37fb3030-b950-4a82-b93b-54569ec8c11f button.colab-df-convert');\n",
              "        buttonEl.style.display =\n",
              "          google.colab.kernel.accessAllowed ? 'block' : 'none';\n",
              "\n",
              "        async function convertToInteractive(key) {\n",
              "          const element = document.querySelector('#df-37fb3030-b950-4a82-b93b-54569ec8c11f');\n",
              "          const dataTable =\n",
              "            await google.colab.kernel.invokeFunction('convertToInteractive',\n",
              "                                                     [key], {});\n",
              "          if (!dataTable) return;\n",
              "\n",
              "          const docLinkHtml = 'Like what you see? Visit the ' +\n",
              "            '<a target=\"_blank\" href=https://colab.research.google.com/notebooks/data_table.ipynb>data table notebook</a>'\n",
              "            + ' to learn more about interactive tables.';\n",
              "          element.innerHTML = '';\n",
              "          dataTable['output_type'] = 'display_data';\n",
              "          await google.colab.output.renderOutput(dataTable, element);\n",
              "          const docLink = document.createElement('div');\n",
              "          docLink.innerHTML = docLinkHtml;\n",
              "          element.appendChild(docLink);\n",
              "        }\n",
              "      </script>\n",
              "    </div>\n",
              "  </div>\n",
              "  "
            ]
          },
          "metadata": {},
          "execution_count": 34
        }
      ]
    },
    {
      "cell_type": "code",
      "source": [
        "churn_data.shape"
      ],
      "metadata": {
        "colab": {
          "base_uri": "https://localhost:8080/"
        },
        "id": "dEi5BPZTCPNI",
        "outputId": "fd802745-4fed-4872-e2d0-94c290d0dd6b"
      },
      "execution_count": null,
      "outputs": [
        {
          "output_type": "execute_result",
          "data": {
            "text/plain": [
              "(7043, 32)"
            ]
          },
          "metadata": {},
          "execution_count": 36
        }
      ]
    },
    {
      "cell_type": "code",
      "source": [
        "churn_data.info"
      ],
      "metadata": {
        "colab": {
          "base_uri": "https://localhost:8080/"
        },
        "id": "5FuXNeO4CZqY",
        "outputId": "1ebc6c74-9d75-4ea2-eeba-1024d9d2ae55"
      },
      "execution_count": null,
      "outputs": [
        {
          "output_type": "execute_result",
          "data": {
            "text/plain": [
              "<bound method DataFrame.info of       SeniorCitizen  tenure  MonthlyCharges  TotalCharges  Churn  MC_Tenure  \\\n",
              "0                 0       1           29.85         29.85  False      29.85   \n",
              "1                 0      34           56.95       1889.50  False    1936.30   \n",
              "2                 0       2           53.85        108.15   True     107.70   \n",
              "3                 0      45           42.30       1840.75  False    1903.50   \n",
              "4                 0       2           70.70        151.65   True     141.40   \n",
              "...             ...     ...             ...           ...    ...        ...   \n",
              "7038              0      24           84.80       1990.50  False    2035.20   \n",
              "7039              0      72          103.20       7362.90  False    7430.40   \n",
              "7040              0      11           29.60        346.45  False     325.60   \n",
              "7041              1       4           74.40        306.60   True     297.60   \n",
              "7042              0      66          105.65       6844.50  False    6972.90   \n",
              "\n",
              "      gender_Male  Partner_Yes  Dependents_Yes  PhoneService_Yes  ...  \\\n",
              "0             0.0          1.0             0.0               0.0  ...   \n",
              "1             1.0          0.0             0.0               1.0  ...   \n",
              "2             1.0          0.0             0.0               1.0  ...   \n",
              "3             1.0          0.0             0.0               0.0  ...   \n",
              "4             0.0          0.0             0.0               1.0  ...   \n",
              "...           ...          ...             ...               ...  ...   \n",
              "7038          1.0          1.0             1.0               1.0  ...   \n",
              "7039          0.0          1.0             1.0               1.0  ...   \n",
              "7040          0.0          1.0             1.0               0.0  ...   \n",
              "7041          1.0          1.0             0.0               1.0  ...   \n",
              "7042          1.0          0.0             0.0               1.0  ...   \n",
              "\n",
              "      StreamingTV_No internet service  StreamingTV_Yes  \\\n",
              "0                                 0.0              0.0   \n",
              "1                                 0.0              0.0   \n",
              "2                                 0.0              0.0   \n",
              "3                                 0.0              0.0   \n",
              "4                                 0.0              0.0   \n",
              "...                               ...              ...   \n",
              "7038                              0.0              1.0   \n",
              "7039                              0.0              1.0   \n",
              "7040                              0.0              0.0   \n",
              "7041                              0.0              0.0   \n",
              "7042                              0.0              1.0   \n",
              "\n",
              "      StreamingMovies_No internet service  StreamingMovies_Yes  \\\n",
              "0                                     0.0                  0.0   \n",
              "1                                     0.0                  0.0   \n",
              "2                                     0.0                  0.0   \n",
              "3                                     0.0                  0.0   \n",
              "4                                     0.0                  0.0   \n",
              "...                                   ...                  ...   \n",
              "7038                                  0.0                  1.0   \n",
              "7039                                  0.0                  1.0   \n",
              "7040                                  0.0                  0.0   \n",
              "7041                                  0.0                  0.0   \n",
              "7042                                  0.0                  1.0   \n",
              "\n",
              "      Contract_One year  Contract_Two year  PaperlessBilling_Yes  \\\n",
              "0                   0.0                0.0                   1.0   \n",
              "1                   1.0                0.0                   0.0   \n",
              "2                   0.0                0.0                   1.0   \n",
              "3                   1.0                0.0                   0.0   \n",
              "4                   0.0                0.0                   1.0   \n",
              "...                 ...                ...                   ...   \n",
              "7038                1.0                0.0                   1.0   \n",
              "7039                1.0                0.0                   1.0   \n",
              "7040                0.0                0.0                   1.0   \n",
              "7041                0.0                0.0                   1.0   \n",
              "7042                0.0                1.0                   1.0   \n",
              "\n",
              "      PaymentMethod_Credit card (automatic)  PaymentMethod_Electronic check  \\\n",
              "0                                       0.0                             1.0   \n",
              "1                                       0.0                             0.0   \n",
              "2                                       0.0                             0.0   \n",
              "3                                       0.0                             0.0   \n",
              "4                                       0.0                             1.0   \n",
              "...                                     ...                             ...   \n",
              "7038                                    0.0                             0.0   \n",
              "7039                                    1.0                             0.0   \n",
              "7040                                    0.0                             1.0   \n",
              "7041                                    0.0                             0.0   \n",
              "7042                                    0.0                             0.0   \n",
              "\n",
              "      PaymentMethod_Mailed check  \n",
              "0                            0.0  \n",
              "1                            1.0  \n",
              "2                            1.0  \n",
              "3                            0.0  \n",
              "4                            0.0  \n",
              "...                          ...  \n",
              "7038                         1.0  \n",
              "7039                         0.0  \n",
              "7040                         0.0  \n",
              "7041                         1.0  \n",
              "7042                         0.0  \n",
              "\n",
              "[7043 rows x 32 columns]>"
            ]
          },
          "metadata": {},
          "execution_count": 37
        }
      ]
    },
    {
      "cell_type": "markdown",
      "source": [
        "#**Data Preprocessing**\n",
        "\n",
        "* **Removing Duplicates and Unnecessary Columns:** Duplicate entries have been identified and removed to ensure data integrity. The 'customerID' column, which does not contribute to the model's predictive power, has also been dropped.\n",
        "\n",
        "* **Data Type Conversion:** The 'TotalCharges' column has been converted to a numeric data type, allowing for seamless integration with other numerical features.\n",
        "\n",
        "* **Handling Missing Values:** Missing values in the 'TotalCharges' column have been imputed with the median value, ensuring a robust representation of the data.\n",
        "\n",
        "* **Feature Engineering:** A new feature, 'MonthlyCharges_Tenure_Product', has been created by multiplying 'MonthlyCharges' and 'tenure'. This feature aims to capture additional information that may be helpful in predicting customer churn.\n",
        "\n",
        "* **One-Hot Encoding:** Categorical variables have been one-hot encoded, transforming them into a binary format suitable for machine learning algorithms.\n",
        "\n",
        "* **Mapping Target Variable:** The target variable, 'Churn', has been mapped to a boolean format, ensuring consistency and compatibility with machine learning models.\n",
        "\n",
        "* **Identifying Time and Event Columns:** The relevant time and event columns have been identified, providing clarity on the key features to focus on during the modeling process."
      ],
      "metadata": {
        "id": "sNfKSXO-Co0M"
      }
    },
    {
      "cell_type": "markdown",
      "source": [
        "#####**Drop** **duplicates** **and** **customerID** **column**"
      ],
      "metadata": {
        "id": "ifoEWNVhg06E"
      }
    },
    {
      "cell_type": "code",
      "source": [
        "churn_data = churn_data.drop_duplicates().drop(columns=['customerID'])"
      ],
      "metadata": {
        "id": "rblwBhTdgsUw"
      },
      "execution_count": null,
      "outputs": []
    },
    {
      "cell_type": "markdown",
      "source": [
        "**Convert** **TotalCharges** **to** **numeric**\n"
      ],
      "metadata": {
        "id": "7cPMfK0bhCJO"
      }
    },
    {
      "cell_type": "code",
      "source": [
        "churn_data['TotalCharges'] = pd.to_numeric(churn_data['TotalCharges'], errors='coerce')"
      ],
      "metadata": {
        "id": "XIX2GrJ0hIC0"
      },
      "execution_count": null,
      "outputs": []
    },
    {
      "cell_type": "markdown",
      "source": [
        "**Fill** **missing** **values** **in** **TotalCharges** **with** **median**"
      ],
      "metadata": {
        "id": "V1fanYAAhLi4"
      }
    },
    {
      "cell_type": "code",
      "source": [
        "churn_data['TotalCharges'].fillna(churn_data['TotalCharges'].median(), inplace=True)"
      ],
      "metadata": {
        "id": "rffxjH9whS3L"
      },
      "execution_count": null,
      "outputs": []
    },
    {
      "cell_type": "markdown",
      "source": [
        "**Create** **new** **feature**: **MonthlyCharges** * **tenure**"
      ],
      "metadata": {
        "id": "gQzD7ORPhTtA"
      }
    },
    {
      "cell_type": "code",
      "source": [
        "churn_data['MC_Tenure'] = churn_data['MonthlyCharges'] * churn_data['tenure']"
      ],
      "metadata": {
        "id": "4GWKAqOIjHkP"
      },
      "execution_count": null,
      "outputs": []
    },
    {
      "cell_type": "markdown",
      "source": [
        "One-**hot** **encoding** **for** **categorical** **variables**"
      ],
      "metadata": {
        "id": "bMCIwC3KjRxA"
      }
    },
    {
      "cell_type": "markdown",
      "source": [
        "The code defines a list of categorical features and uses pd.get_dummies() to one-hot encode them in the churn_data DataFrame. It removes the first category in each feature to avoid multicollinearity and sets the data type to float. The transformed dataset is now suitable for machine learning algorithms."
      ],
      "metadata": {
        "id": "e1tZBQ7rkCS5"
      }
    },
    {
      "cell_type": "code",
      "source": [
        "categories = ['gender', 'Partner', 'Dependents', 'PhoneService', 'MultipleLines', 'InternetService', 'OnlineSecurity', 'OnlineBackup', 'DeviceProtection', 'TechSupport', 'StreamingTV', 'StreamingMovies', 'Contract', 'PaperlessBilling', 'PaymentMethod']\n",
        "churn_data = pd.get_dummies(churn_data, columns=categories, drop_first=True, dtype=float)"
      ],
      "metadata": {
        "id": "5cLb7vl9jYQ_"
      },
      "execution_count": null,
      "outputs": []
    },
    {
      "cell_type": "markdown",
      "source": [
        "**Map** '**Churn**' **to** **boolean**"
      ],
      "metadata": {
        "id": "gWq89maIkOiU"
      }
    },
    {
      "cell_type": "code",
      "source": [
        "churn_data['Churn'] = churn_data['Churn'].map({'No': False, 'Yes': True})"
      ],
      "metadata": {
        "id": "EKi2DsvfkTqJ"
      },
      "execution_count": null,
      "outputs": []
    },
    {
      "cell_type": "markdown",
      "source": [
        "**Identify** **the** **time** **and** **event** **columns**"
      ],
      "metadata": {
        "id": "pv_fqusAkZV1"
      }
    },
    {
      "cell_type": "code",
      "source": [
        "time_col = 'tenure'\n",
        "event_col = 'Churn'"
      ],
      "metadata": {
        "id": "PvjycjGQkgSZ"
      },
      "execution_count": null,
      "outputs": []
    },
    {
      "cell_type": "markdown",
      "source": [
        "#**Feature Engineering**\n",
        "\n",
        "Following the Exploratory Data Analysis, we have implemented Feature Extraction and Feature Selection techniques to further refine the dataset and identify the most relevant features for predicting customer churn.\n",
        "\n",
        "* **Feature Extraction:** We have employed various techniques to derive new features from the existing data. This process helps uncover hidden relationships between variables and enhances the model's predictive power.\n",
        "\n",
        "* **Feature Selection using ANOVA F-value for Classification:** In order to identify the most significant features for our classification task, we have employed Analysis of Variance (ANOVA) F-value method. This statistical approach measures the differences between the means of two or more groups for each feature and calculates an F-value, which reflects the degree of variation between groups. A higher F-value indicates a stronger association between the feature and the target variable, 'Churn'. By selecting the features with the highest F-values, we can ensure that our model focuses on the most informative variables, thus improving its performance and reducing the risk of overfitting."
      ],
      "metadata": {
        "id": "3Z_vRuseBr81"
      }
    },
    {
      "cell_type": "markdown",
      "source": [
        "**Extract** **features**"
      ],
      "metadata": {
        "id": "KSfGS8hqkmkx"
      }
    },
    {
      "cell_type": "code",
      "source": [
        "features = np.setdiff1d(churn_data.columns, [time_col, event_col]).tolist()"
      ],
      "metadata": {
        "id": "IY2xv3HTkqbJ"
      },
      "execution_count": null,
      "outputs": []
    },
    {
      "cell_type": "markdown",
      "source": [
        "**Feature** **selection** **using** **ANOVA** **F**-**value** **for** **classification**"
      ],
      "metadata": {
        "id": "jpcWnHMSktcE"
      }
    },
    {
      "cell_type": "code",
      "source": [
        "X = churn_data[features]\n",
        "y = churn_data[event_col]\n",
        "fvalue_selector = SelectKBest(f_classif, k=20)\n",
        "X_kbest = fvalue_selector.fit_transform(X, y)\n",
        "mask = fvalue_selector.get_support()\n",
        "selected_features = X.columns[mask].tolist()\n",
        "if 'tenure' not in selected_features:\n",
        "    selected_features.append('tenure')"
      ],
      "metadata": {
        "id": "m2Epck7dk7n0"
      },
      "execution_count": null,
      "outputs": []
    },
    {
      "cell_type": "markdown",
      "source": [
        "**Split** **the** **data** **into** **training** **and** **testing** **sets**"
      ],
      "metadata": {
        "id": "Q4sG3NuzlBF3"
      }
    },
    {
      "cell_type": "code",
      "source": [
        "index_train, index_test = train_test_split(range(churn_data.shape[0]), test_size=0.3, random_state=0)\n",
        "data_train = churn_data.loc[index_train].reset_index(drop=True)\n",
        "data_test  = churn_data.loc[index_test].reset_index(drop=True)"
      ],
      "metadata": {
        "id": "y0QVs18HlKJz"
      },
      "execution_count": null,
      "outputs": []
    },
    {
      "cell_type": "markdown",
      "source": [
        "**Create** **X**, **T**, **and** **E** **inputs**"
      ],
      "metadata": {
        "id": "815mX2silP0p"
      }
    },
    {
      "cell_type": "code",
      "source": [
        "X_trn, X_val = data_train[selected_features], data_test[selected_features]\n",
        "T_trn, T_val = data_train[time_col], data_test[time_col]\n",
        "E_trn, E_val = data_train[event_col], data_test[event_col]"
      ],
      "metadata": {
        "id": "mpSNMiCMlde-"
      },
      "execution_count": null,
      "outputs": []
    },
    {
      "cell_type": "markdown",
      "source": [
        "#**Model Selection**\n",
        "\n"
      ],
      "metadata": {
        "id": "9TNHG6a-DX_b"
      }
    },
    {
      "cell_type": "markdown",
      "source": [
        "**RandomForestClassifier** **model**\n",
        "\n",
        "This code snippet trains a RandomForestClassifier model and evaluates its performance using the concordance index. The steps are as follows:\n",
        "\n",
        "**1**) Instantiate a RandomForestClassifier object named rfc with 100 decision trees (n_estimators=100) and a fixed random state (random_state=0) for reproducibility.\n",
        "\n",
        "**2**) Train the rfc model using the training data (features X_trn and target variable E_trn).\n",
        "\n",
        "**3**) Calculate the concordance index for the trained model's predictions on the training data. The function concordance_index takes three arguments: the true event times T_trn, predicted probabilities of the event rfc.predict_proba(X_trn)[:,0], and the true event indicators E_trn. The result is stored in the variable ci_rfc_trn.\n",
        "\n",
        "**4**) Calculate the concordance index for the trained model's predictions on the validation data. The function concordance_index takes the true event times T_val, predicted probabilities of the event rfc.predict_proba(X_val)[:,0], and the true event indicators E_val. The result is stored in the variable ci_rfc_val.\n",
        "\n",
        "**5**) After executing this code, you'll have the concordance index for both the training and validation sets, which can be used to evaluate the model's performance."
      ],
      "metadata": {
        "id": "NDphLVwtlzht"
      }
    },
    {
      "cell_type": "markdown",
      "source": [
        "**RandomForestClassifier model without Hyperparameter Tuning**"
      ],
      "metadata": {
        "id": "YYBphLnmzUf2"
      }
    },
    {
      "cell_type": "code",
      "source": [
        "# RandomForestClassifier model\n",
        "rfc = RandomForestClassifier(n_estimators=100, random_state=0)\n",
        "rfc.fit(X_trn, E_trn)\n",
        "ci_rfc_trn = concordance_index(T_trn, rfc.predict_proba(X_trn)[:,0], E_trn)\n",
        "ci_rfc_val = concordance_index(T_val, rfc.predict_proba(X_val)[:,0], E_val)\n",
        "print(f'Concordance index of Random Forest Classifier: train: {ci_rfc_trn:.3f}, test: {ci_rfc_val:.3f}')\n",
        "rfc = RandomForestClassifier(n_estimators=100, random_state=0)\n",
        "rfc.fit(X_trn, E_trn)\n",
        "\n",
        "# Calculate training and testing accuracy\n",
        "training_accuracy = accuracy_score(E_trn, rfc.predict(X_trn))\n",
        "testing_accuracy = accuracy_score(E_val, rfc.predict(X_val))\n",
        "\n",
        "# Print the training and testing accuracy\n",
        "print(f'Random Forest Classifier Accuracy: train: {training_accuracy:.3f}, test: {testing_accuracy:.3f}')"
      ],
      "metadata": {
        "colab": {
          "base_uri": "https://localhost:8080/"
        },
        "id": "LOghSNqHzQ2q",
        "outputId": "409792d8-3a10-40e0-8f68-dbca0b6f8df9"
      },
      "execution_count": null,
      "outputs": [
        {
          "output_type": "stream",
          "name": "stdout",
          "text": [
            "Concordance index of Random Forest Classifier: train: 0.944, test: 0.862\n",
            "Random Forest Classifier Accuracy: train: 0.996, test: 0.780\n"
          ]
        }
      ]
    },
    {
      "cell_type": "markdown",
      "source": [
        "Random Forest Classifier is a machine learning algorithm used for classification tasks. It creates a forest of decision trees and each tree predicts the class based on the features of the input data. The final prediction is made by combining the predictions of all the trees in the forest.\n",
        "\n",
        "The metrics received are:\n",
        "\n",
        "1. Concordance index: It is a measure of the performance of a classifier model, also known as the c-index or the area under the receiver operating characteristic curve (AUC-ROC). It represents the probability of the classifier assigning a higher score to a randomly chosen positive sample than to a randomly chosen negative sample. The concordance index ranges from 0 to 1, with higher values indicating better performance. In your case, the concordance index on the training set is 0.944 and on the test set is 0.862, which means that the model performs well in distinguishing between positive and negative samples.\n",
        "\n",
        "2. Accuracy: It is another performance metric that measures the percentage of correct predictions made by the classifier. It is calculated by dividing the number of correct predictions by the total number of predictions. In your case, the accuracy on the training set is 0.996, which means that the model predicts 99.6% of the samples correctly. However, the accuracy on the test set is 0.780, which is lower than the training accuracy, indicating that the model may be overfitting on the training data and not generalizing well to new data.\n",
        "\n",
        "In conclusion, your Random Forest Classifier model has a good concordance index on both training and test sets, indicating good performance in distinguishing between positive and negative samples. However, the lower accuracy on the test set suggests that the model may need further tuning or regularization to prevent overfitting and improve generalization to new data."
      ],
      "metadata": {
        "id": "uUix8Y4COCZH"
      }
    },
    {
      "cell_type": "markdown",
      "source": [
        "#**Model Evaluation**\n",
        "\n",
        "We will evaluate the performance of the model using various metrics such as accuracy, precision, recall, F1 score, and ROC curve"
      ],
      "metadata": {
        "id": "cmiUGpiUD6Rb"
      }
    },
    {
      "cell_type": "code",
      "source": [
        "from sklearn.metrics import accuracy_score, precision_score, recall_score, f1_score, roc_auc_score, roc_curve\n",
        "\n",
        "# Fit the model\n",
        "rfc = RandomForestClassifier(n_estimators=100, random_state=0)\n",
        "rfc.fit(X_trn, E_trn)\n",
        "\n",
        "# Make predictions on train and validation set\n",
        "train_preds = rfc.predict(X_trn)\n",
        "val_preds = rfc.predict(X_val)\n",
        "\n",
        "# Calculate evaluation metrics for train set\n",
        "train_acc = accuracy_score(E_trn, train_preds)\n",
        "train_prec = precision_score(E_trn, train_preds)\n",
        "train_rec = recall_score(E_trn, train_preds)\n",
        "train_f1 = f1_score(E_trn, train_preds)\n",
        "train_auc = roc_auc_score(E_trn, rfc.predict_proba(X_trn)[:,1])\n",
        "train_fpr, train_tpr, _ = roc_curve(E_trn, rfc.predict_proba(X_trn)[:,1])\n",
        "\n",
        "# Calculate evaluation metrics for validation set\n",
        "val_acc = accuracy_score(E_val, val_preds)\n",
        "val_prec = precision_score(E_val, val_preds)\n",
        "val_rec = recall_score(E_val, val_preds)\n",
        "val_f1 = f1_score(E_val, val_preds)\n",
        "val_auc = roc_auc_score(E_val, rfc.predict_proba(X_val)[:,1])\n",
        "val_fpr, val_tpr, _ = roc_curve(E_val, rfc.predict_proba(X_val)[:,1])\n",
        "\n",
        "# Print the evaluation metrics\n",
        "print(f'Training Accuracy: {train_acc:.3f}')\n",
        "print(f'Training Precision: {train_prec:.3f}')\n",
        "print(f'Training Recall: {train_rec:.3f}')\n",
        "print(f'Training F1 Score: {train_f1:.3f}')\n",
        "print(f'Training AUC: {train_auc:.3f}')\n",
        "\n",
        "print(f'Validation Accuracy: {val_acc:.3f}')\n",
        "print(f'Validation Precision: {val_prec:.3f}')\n",
        "print(f'Validation Recall: {val_rec:.3f}')\n",
        "print(f'Validation F1 Score: {val_f1:.3f}')\n",
        "print(f'Validation AUC: {val_auc:.3f}')\n",
        "\n",
        "# Plot the ROC curve for train and validation set\n",
        "import matplotlib.pyplot as plt\n",
        "plt.figure(figsize=(8,6))\n",
        "plt.plot(train_fpr, train_tpr, label='Train ROC Curve')\n",
        "plt.plot(val_fpr, val_tpr, label='Validation ROC Curve')\n",
        "plt.plot([0, 1], [0, 1], 'k--')\n",
        "plt.xlabel('False Positive Rate')\n",
        "plt.ylabel('True Positive Rate')\n",
        "plt.title('ROC Curve')\n",
        "plt.legend()\n",
        "plt.show()\n"
      ],
      "metadata": {
        "colab": {
          "base_uri": "https://localhost:8080/",
          "height": 743
        },
        "id": "DuQug3MC-MAU",
        "outputId": "bcc1bef1-4647-4155-f6b7-ecd0662fd92b"
      },
      "execution_count": null,
      "outputs": [
        {
          "output_type": "stream",
          "name": "stdout",
          "text": [
            "Training Accuracy: 0.996\n",
            "Training Precision: 0.996\n",
            "Training Recall: 0.990\n",
            "Training F1 Score: 0.993\n",
            "Training AUC: 1.000\n",
            "Validation Accuracy: 0.780\n",
            "Validation Precision: 0.605\n",
            "Validation Recall: 0.463\n",
            "Validation F1 Score: 0.525\n",
            "Validation AUC: 0.819\n"
          ]
        },
        {
          "output_type": "display_data",
          "data": {
            "text/plain": [
              "<Figure size 800x600 with 1 Axes>"
            ],
            "image/png": "[encoded data removed]"
          },
          "metadata": {}
        }
      ]
    },
    {
      "cell_type": "markdown",
      "source": [
        "#**Feature Importance**\n",
        "\n",
        "Feature importance is a technique used to identify the most significant features (also known as variables or predictors) in a machine learning model. It helps to understand which features have the most impact on the target variable and can aid in explaining the model's behavior to stakeholders.\n",
        "\n",
        "In general, feature importance is calculated by assessing how much each feature contributes to the model's prediction accuracy. The contribution can be measured in different ways, such as using a tree-based algorithm that calculates the reduction in impurity when a feature is used to split the data, or using permutation-based methods that evaluate the decrease in the model's performance when a feature's values are randomly shuffled.\n",
        "\n",
        "Feature importance can be used for various purposes, such as:\n",
        "\n",
        "* Selecting the most relevant features for a model to improve its performance and reduce overfitting.\n",
        "* Identifying potential data quality issues or outliers that affect the model's accuracy.\n",
        "* Interpreting the model's predictions and explaining how they are influenced by different features.\n",
        "* Understanding the underlying data and identifying patterns or relationships that may be useful for further analysis or decision-making.\n",
        "\n",
        "Overall, feature importance is a valuable tool in the machine learning process that can help to improve the model's performance, increase transparency and interpretability, and gain insights into the data."
      ],
      "metadata": {
        "id": "3WvNIpYYGgkk"
      }
    },
    {
      "cell_type": "code",
      "source": [
        "# Get feature importances\n",
        "importances = rfc.feature_importances_\n",
        "std = np.std([tree.feature_importances_ for tree in rfc.estimators_], axis=0)\n",
        "df_imp = pd.DataFrame({'feature': X_trn.columns, 'importance': importances})\n",
        "\n",
        "# Sort by importance\n",
        "df_imp = df_imp.sort_values(by='importance', ascending=False)\n",
        "\n",
        "# Create horizontal bar chart\n",
        "plt.figure(figsize=(8,6))\n",
        "plt.barh(y=df_imp['feature'], width=df_imp['importance'], xerr=std[df_imp.index])\n",
        "plt.ylabel('Feature')\n",
        "plt.xlabel('Feature Importance')\n",
        "plt.title('Random Forest Classifier Feature Importance')\n",
        "plt.show()\n",
        "\n",
        "# Display table of feature importances\n",
        "display(df_imp)\n",
        "\n"
      ],
      "metadata": {
        "colab": {
          "base_uri": "https://localhost:8080/",
          "height": 1000
        },
        "id": "_ZGKRyw39NwW",
        "outputId": "e5ae9f15-64b8-4b78-998d-bfb86b37d534"
      },
      "execution_count": null,
      "outputs": [
        {
          "output_type": "display_data",
          "data": {
            "text/plain": [
              "<Figure size 800x600 with 1 Axes>"
            ],
            "image/png": "[encoded data removed]"
          },
          "metadata": {}
        },
        {
          "output_type": "display_data",
          "data": {
            "text/plain": [
              "                                 feature  importance\n",
              "19                          TotalCharges    0.192469\n",
              "6                              MC_Tenure    0.182493\n",
              "7                         MonthlyCharges    0.180047\n",
              "20                                tenure    0.149427\n",
              "4            InternetService_Fiber optic    0.041954\n",
              "13        PaymentMethod_Electronic check    0.040709\n",
              "1                      Contract_Two year    0.031593\n",
              "11                  PaperlessBilling_Yes    0.023825\n",
              "0                      Contract_One year    0.023164\n",
              "12                           Partner_Yes    0.022133\n",
              "10                    OnlineSecurity_Yes    0.021019\n",
              "18                       TechSupport_Yes    0.020776\n",
              "14                         SeniorCitizen    0.018657\n",
              "2                         Dependents_Yes    0.017945\n",
              "3   DeviceProtection_No internet service    0.006604\n",
              "9     OnlineSecurity_No internet service    0.006482\n",
              "15   StreamingMovies_No internet service    0.004328\n",
              "8       OnlineBackup_No internet service    0.004171\n",
              "17       TechSupport_No internet service    0.004147\n",
              "5                     InternetService_No    0.004144\n",
              "16       StreamingTV_No internet service    0.003915"
            ],
            "text/html": [
              "\n",
              "  <div id=\"df-dc30ac12-1722-4571-8ab1-561d90d81ca7\">\n",
              "    <div class=\"colab-df-container\">\n",
              "      <div>\n",
              "<style scoped>\n",
              "    .dataframe tbody tr th:only-of-type {\n",
              "        vertical-align: middle;\n",
              "    }\n",
              "\n",
              "    .dataframe tbody tr th {\n",
              "        vertical-align: top;\n",
              "    }\n",
              "\n",
              "    .dataframe thead th {\n",
              "        text-align: right;\n",
              "    }\n",
              "</style>\n",
              "<table border=\"1\" class=\"dataframe\">\n",
              "  <thead>\n",
              "    <tr style=\"text-align: right;\">\n",
              "      <th></th>\n",
              "      <th>feature</th>\n",
              "      <th>importance</th>\n",
              "    </tr>\n",
              "  </thead>\n",
              "  <tbody>\n",
              "    <tr>\n",
              "      <th>19</th>\n",
              "      <td>TotalCharges</td>\n",
              "      <td>0.192469</td>\n",
              "    </tr>\n",
              "    <tr>\n",
              "      <th>6</th>\n",
              "      <td>MC_Tenure</td>\n",
              "      <td>0.182493</td>\n",
              "    </tr>\n",
              "    <tr>\n",
              "      <th>7</th>\n",
              "      <td>MonthlyCharges</td>\n",
              "      <td>0.180047</td>\n",
              "    </tr>\n",
              "    <tr>\n",
              "      <th>20</th>\n",
              "      <td>tenure</td>\n",
              "      <td>0.149427</td>\n",
              "    </tr>\n",
              "    <tr>\n",
              "      <th>4</th>\n",
              "      <td>InternetService_Fiber optic</td>\n",
              "      <td>0.041954</td>\n",
              "    </tr>\n",
              "    <tr>\n",
              "      <th>13</th>\n",
              "      <td>PaymentMethod_Electronic check</td>\n",
              "      <td>0.040709</td>\n",
              "    </tr>\n",
              "    <tr>\n",
              "      <th>1</th>\n",
              "      <td>Contract_Two year</td>\n",
              "      <td>0.031593</td>\n",
              "    </tr>\n",
              "    <tr>\n",
              "      <th>11</th>\n",
              "      <td>PaperlessBilling_Yes</td>\n",
              "      <td>0.023825</td>\n",
              "    </tr>\n",
              "    <tr>\n",
              "      <th>0</th>\n",
              "      <td>Contract_One year</td>\n",
              "      <td>0.023164</td>\n",
              "    </tr>\n",
              "    <tr>\n",
              "      <th>12</th>\n",
              "      <td>Partner_Yes</td>\n",
              "      <td>0.022133</td>\n",
              "    </tr>\n",
              "    <tr>\n",
              "      <th>10</th>\n",
              "      <td>OnlineSecurity_Yes</td>\n",
              "      <td>0.021019</td>\n",
              "    </tr>\n",
              "    <tr>\n",
              "      <th>18</th>\n",
              "      <td>TechSupport_Yes</td>\n",
              "      <td>0.020776</td>\n",
              "    </tr>\n",
              "    <tr>\n",
              "      <th>14</th>\n",
              "      <td>SeniorCitizen</td>\n",
              "      <td>0.018657</td>\n",
              "    </tr>\n",
              "    <tr>\n",
              "      <th>2</th>\n",
              "      <td>Dependents_Yes</td>\n",
              "      <td>0.017945</td>\n",
              "    </tr>\n",
              "    <tr>\n",
              "      <th>3</th>\n",
              "      <td>DeviceProtection_No internet service</td>\n",
              "      <td>0.006604</td>\n",
              "    </tr>\n",
              "    <tr>\n",
              "      <th>9</th>\n",
              "      <td>OnlineSecurity_No internet service</td>\n",
              "      <td>0.006482</td>\n",
              "    </tr>\n",
              "    <tr>\n",
              "      <th>15</th>\n",
              "      <td>StreamingMovies_No internet service</td>\n",
              "      <td>0.004328</td>\n",
              "    </tr>\n",
              "    <tr>\n",
              "      <th>8</th>\n",
              "      <td>OnlineBackup_No internet service</td>\n",
              "      <td>0.004171</td>\n",
              "    </tr>\n",
              "    <tr>\n",
              "      <th>17</th>\n",
              "      <td>TechSupport_No internet service</td>\n",
              "      <td>0.004147</td>\n",
              "    </tr>\n",
              "    <tr>\n",
              "      <th>5</th>\n",
              "      <td>InternetService_No</td>\n",
              "      <td>0.004144</td>\n",
              "    </tr>\n",
              "    <tr>\n",
              "      <th>16</th>\n",
              "      <td>StreamingTV_No internet service</td>\n",
              "      <td>0.003915</td>\n",
              "    </tr>\n",
              "  </tbody>\n",
              "</table>\n",
              "</div>\n",
              "      <button class=\"colab-df-convert\" onclick=\"convertToInteractive('df-dc30ac12-1722-4571-8ab1-561d90d81ca7')\"\n",
              "              title=\"Convert this dataframe to an interactive table.\"\n",
              "              style=\"display:none;\">\n",
              "        \n",
              "  <svg xmlns=\"http://www.w3.org/2000/svg\" height=\"24px\"viewBox=\"0 0 24 24\"\n",
              "       width=\"24px\">\n",
              "    <path d=\"M0 0h24v24H0V0z\" fill=\"none\"/>\n",
              "    <path d=\"M18.56 5.44l.94 2.06.94-2.06 2.06-.94-2.06-.94-.94-2.06-.94 2.06-2.06.94zm-11 1L8.5 8.5l.94-2.06 2.06-.94-2.06-.94L8.5 2.5l-.94 2.06-2.06.94zm10 10l.94 2.06.94-2.06 2.06-.94-2.06-.94-.94-2.06-.94 2.06-2.06.94z\"/><path d=\"M17.41 7.96l-1.37-1.37c-.4-.4-.92-.59-1.43-.59-.52 0-1.04.2-1.43.59L10.3 9.45l-7.72 7.72c-.78.78-.78 2.05 0 2.83L4 21.41c.39.39.9.59 1.41.59.51 0 1.02-.2 1.41-.59l7.78-7.78 2.81-2.81c.8-.78.8-2.07 0-2.86zM5.41 20L4 18.59l7.72-7.72 1.47 1.35L5.41 20z\"/>\n",
              "  </svg>\n",
              "      </button>\n",
              "      \n",
              "  <style>\n",
              "    .colab-df-container {\n",
              "      display:flex;\n",
              "      flex-wrap:wrap;\n",
              "      gap: 12px;\n",
              "    }\n",
              "\n",
              "    .colab-df-convert {\n",
              "      background-color: #E8F0FE;\n",
              "      border: none;\n",
              "      border-radius: 50%;\n",
              "      cursor: pointer;\n",
              "      display: none;\n",
              "      fill: #1967D2;\n",
              "      height: 32px;\n",
              "      padding: 0 0 0 0;\n",
              "      width: 32px;\n",
              "    }\n",
              "\n",
              "    .colab-df-convert:hover {\n",
              "      background-color: #E2EBFA;\n",
              "      box-shadow: 0px 1px 2px rgba(60, 64, 67, 0.3), 0px 1px 3px 1px rgba(60, 64, 67, 0.15);\n",
              "      fill: #174EA6;\n",
              "    }\n",
              "\n",
              "    [theme=dark] .colab-df-convert {\n",
              "      background-color: #3B4455;\n",
              "      fill: #D2E3FC;\n",
              "    }\n",
              "\n",
              "    [theme=dark] .colab-df-convert:hover {\n",
              "      background-color: #434B5C;\n",
              "      box-shadow: 0px 1px 3px 1px rgba(0, 0, 0, 0.15);\n",
              "      filter: drop-shadow(0px 1px 2px rgba(0, 0, 0, 0.3));\n",
              "      fill: #FFFFFF;\n",
              "    }\n",
              "  </style>\n",
              "\n",
              "      <script>\n",
              "        const buttonEl =\n",
              "          document.querySelector('#df-dc30ac12-1722-4571-8ab1-561d90d81ca7 button.colab-df-convert');\n",
              "        buttonEl.style.display =\n",
              "          google.colab.kernel.accessAllowed ? 'block' : 'none';\n",
              "\n",
              "        async function convertToInteractive(key) {\n",
              "          const element = document.querySelector('#df-dc30ac12-1722-4571-8ab1-561d90d81ca7');\n",
              "          const dataTable =\n",
              "            await google.colab.kernel.invokeFunction('convertToInteractive',\n",
              "                                                     [key], {});\n",
              "          if (!dataTable) return;\n",
              "\n",
              "          const docLinkHtml = 'Like what you see? Visit the ' +\n",
              "            '<a target=\"_blank\" href=https://colab.research.google.com/notebooks/data_table.ipynb>data table notebook</a>'\n",
              "            + ' to learn more about interactive tables.';\n",
              "          element.innerHTML = '';\n",
              "          dataTable['output_type'] = 'display_data';\n",
              "          await google.colab.output.renderOutput(dataTable, element);\n",
              "          const docLink = document.createElement('div');\n",
              "          docLink.innerHTML = docLinkHtml;\n",
              "          element.appendChild(docLink);\n",
              "        }\n",
              "      </script>\n",
              "    </div>\n",
              "  </div>\n",
              "  "
            ]
          },
          "metadata": {}
        }
      ]
    },
    {
      "cell_type": "markdown",
      "source": [
        "**RandomForestClassifier Model with Hyperparameter Tuning using GridSearchCV**"
      ],
      "metadata": {
        "id": "PVUcNOUxyJ_0"
      }
    },
    {
      "cell_type": "code",
      "source": [
        "# Hyperparameter Tuning with GridSearchCV\n",
        "rfc = RandomForestClassifier(random_state=0)\n",
        "\n",
        "param_grid = {\n",
        "    'n_estimators': [50, 100, 200],\n",
        "    'max_depth': [None, 10, 20],\n",
        "    'min_samples_split': [2, 5],\n",
        "    'min_samples_leaf': [1, 2]\n",
        "}\n",
        "\n",
        "rfc_grid = GridSearchCV(rfc, param_grid, cv=5)\n",
        "rfc_grid.fit(X_trn, E_trn)\n",
        "\n",
        "# Finetuning\n",
        "rfc = RandomForestClassifier(n_estimators=rfc_grid.best_params_['n_estimators'], \n",
        "                              max_depth=rfc_grid.best_params_['max_depth'],\n",
        "                              min_samples_split=rfc_grid.best_params_['min_samples_split'],\n",
        "                              min_samples_leaf=rfc_grid.best_params_['min_samples_leaf'],\n",
        "                              random_state=0)\n",
        "\n",
        "rfc.fit(X_trn, E_trn)\n",
        "ci_rfc_trn = concordance_index(T_trn, rfc.predict_proba(X_trn)[:,0], E_trn)\n",
        "ci_rfc_val = concordance_index(T_val, rfc.predict_proba(X_val)[:,0], E_val)\n",
        "print(f'Concordance index of Random Forest Classifier: train: {ci_rfc_trn:.3f}, test: {ci_rfc_val:.3f}')\n",
        "\n",
        "# Calculate training and testing accuracy\n",
        "training_accuracy = accuracy_score(E_trn, rfc.predict(X_trn))\n",
        "testing_accuracy = accuracy_score(E_val, rfc.predict(X_val))\n",
        "\n",
        "# Print the training and testing accuracy\n",
        "print(f'Random Forest Classifier Accuracy: train: {training_accuracy:.3f}, test: {testing_accuracy:.3f}')\n",
        "\n"
      ],
      "metadata": {
        "colab": {
          "base_uri": "https://localhost:8080/"
        },
        "id": "9AhOCKRxljUK",
        "outputId": "13951cea-ce31-47f0-fa6c-c700e47c560e"
      },
      "execution_count": null,
      "outputs": [
        {
          "output_type": "stream",
          "name": "stdout",
          "text": [
            "Concordance index of Random Forest Classifier: train: 0.939, test: 0.898\n",
            "Random Forest Classifier Accuracy: train: 0.855, test: 0.797\n"
          ]
        }
      ]
    },
    {
      "cell_type": "markdown",
      "source": [
        "Metrics Received:\n",
        "\n",
        "1. Concordance index: The concordance index (also known as the c-index or AUC-ROC) measures the model's ability to correctly rank order the samples. A value of 1 means perfect ranking, while 0.5 means random guessing. In your case, the concordance index is 0.939 on the training set and 0.898 on the test set, which indicates that the model is performing well in distinguishing between positive and negative samples.\n",
        "\n",
        "2. Accuracy: Accuracy measures the percentage of correct predictions made by the model. In your case, the accuracy is 0.855 on the training set and 0.797 on the test set. The lower accuracy on the test set compared to the training set suggests that the model is overfitting to the training data and not generalizing well to new data.\n",
        "\n",
        "Overall, the Random Forest Classifier has good performance on both the training and test sets, as indicated by the high concordance index values. However, the lower accuracy on the test set suggests that the model may benefit from regularization techniques, such as adjusting hyperparameters, reducing the number of features, or increasing the size of the training data to prevent overfitting and improve generalization to new data."
      ],
      "metadata": {
        "id": "ZzBCrHhiPQAv"
      }
    },
    {
      "cell_type": "markdown",
      "source": [
        "**Hyperparameter Tuning with BayesSearchCV**"
      ],
      "metadata": {
        "id": "B9MIfxRayavo"
      }
    },
    {
      "cell_type": "code",
      "source": [
        "#Hyperparameter Tuning with BayesSearchCV\n",
        "rfc = RandomForestClassifier(random_state=0)\n",
        "\n",
        "param_dist = {\n",
        "    'n_estimators': Integer(50, 200),\n",
        "    'max_depth': Integer(5, 20),\n",
        "    'min_samples_split': Integer(2, 10),\n",
        "    'min_samples_leaf': Integer(1, 5),\n",
        "}\n",
        "\n",
        "rfc_bayes = BayesSearchCV(\n",
        "    rfc,\n",
        "    search_spaces=param_dist,\n",
        "    cv=5,\n",
        "    n_jobs=-1,\n",
        "    n_iter=20,\n",
        "    random_state=0\n",
        ")\n",
        "\n",
        "rfc_bayes.fit(X_trn, E_trn)\n",
        "\n",
        "# Finetuning\n",
        "rfc = RandomForestClassifier(\n",
        "    n_estimators=rfc_bayes.best_params_['n_estimators'],\n",
        "    max_depth=rfc_bayes.best_params_['max_depth'],\n",
        "    min_samples_split=rfc_bayes.best_params_['min_samples_split'],\n",
        "    min_samples_leaf=rfc_bayes.best_params_['min_samples_leaf'],\n",
        "    random_state=0\n",
        ")\n",
        "\n",
        "rfc.fit(X_trn, E_trn)\n",
        "\n",
        "ci_rfc_trn = concordance_index(T_trn, rfc.predict_proba(X_trn)[:,0], E_trn)\n",
        "ci_rfc_val = concordance_index(T_val, rfc.predict_proba(X_val)[:,0], E_val)\n",
        "\n",
        "print(f'Concordance index of Random Forest Classifier: train: {ci_rfc_trn:.3f}, test: {ci_rfc_val:.3f}')\n",
        "\n",
        "# Calculate training and testing accuracy\n",
        "training_accuracy = accuracy_score(E_trn, rfc.predict(X_trn))\n",
        "testing_accuracy = accuracy_score(E_val, rfc.predict(X_val))\n",
        "\n",
        "# Print the training and testing accuracy\n",
        "print(f'Random Forest Classifier Accuracy: train: {training_accuracy:.3f}, test: {testing_accuracy:.3f}')\n"
      ],
      "metadata": {
        "colab": {
          "base_uri": "https://localhost:8080/"
        },
        "id": "sBuJ6l7ZuPQg",
        "outputId": "950b415c-372e-4285-9ee1-045d2d3affd0"
      },
      "execution_count": null,
      "outputs": [
        {
          "output_type": "stream",
          "name": "stdout",
          "text": [
            "Concordance index of Random Forest Classifier: train: 0.927, test: 0.901\n",
            "Random Forest Classifier Accuracy: train: 0.835, test: 0.795\n"
          ]
        }
      ]
    },
    {
      "cell_type": "markdown",
      "source": [
        "Metrics Received:\n",
        "\n",
        "Concordance index: The concordance index (also known as the c-index or AUC-ROC) measures the model's ability to correctly rank order the samples. A value of 1 means perfect ranking, while 0.5 means random guessing. In your case, the concordance index is 0.927 on the training set and 0.901 on the test set, which indicates that the model is performing well in distinguishing between positive and negative samples.\n",
        "\n",
        "Accuracy: Accuracy measures the percentage of correct predictions made by the model. In your case, the accuracy is 0.835 on the training set and 0.795 on the test set. The lower accuracy on the test set compared to the training set suggests that the model is overfitting to the training data and not generalizing well to new data.\n",
        "\n",
        "Overall, the Random Forest Classifier has good performance on both the training and test sets, as indicated by the high concordance index values. However, the lower accuracy on the test set suggests that the model may benefit from regularization techniques, such as adjusting hyperparameters, reducing the number of features, or increasing the size of the training data to prevent overfitting and improve generalization to new data."
      ],
      "metadata": {
        "id": "E5Fk5fcYPvkj"
      }
    },
    {
      "cell_type": "markdown",
      "source": [
        "**Hyperparameter Tuning with RandomizedSearchCV**"
      ],
      "metadata": {
        "id": "0V3IbPrVywiY"
      }
    },
    {
      "cell_type": "code",
      "source": [
        "#Hyperparameter Tuning with RandomizedSearchCV\n",
        "rfc = RandomForestClassifier(random_state=0)\n",
        "\n",
        "param_dist = {\n",
        "    'n_estimators': [50, 100, 200],\n",
        "    'max_depth': [None, 10, 20],\n",
        "    'min_samples_split': [2, 5],\n",
        "    'min_samples_leaf': [1, 2]\n",
        "}\n",
        "\n",
        "rfc_random = RandomizedSearchCV(rfc, param_distributions=param_dist, n_iter=10, cv=5, random_state=0)\n",
        "rfc_random.fit(X_trn, E_trn)\n",
        "\n",
        "# Finetuning\n",
        "rfc = RandomForestClassifier(n_estimators=rfc_random.best_params_['n_estimators'], \n",
        "                              max_depth=rfc_random.best_params_['max_depth'],\n",
        "                              min_samples_split=rfc_random.best_params_['min_samples_split'],\n",
        "                              min_samples_leaf=rfc_random.best_params_['min_samples_leaf'],\n",
        "                              random_state=0)\n",
        "\n",
        "rfc.fit(X_trn, E_trn)\n",
        "ci_rfc_trn = concordance_index(T_trn, rfc.predict_proba(X_trn)[:,0], E_trn)\n",
        "ci_rfc_val = concordance_index(T_val, rfc.predict_proba(X_val)[:,0], E_val)\n",
        "print(f'Concordance index of Random Forest Classifier: train: {ci_rfc_trn:.3f}, test: {ci_rfc_val:.3f}')\n",
        "\n",
        "# Calculate training and testing accuracy\n",
        "training_accuracy = accuracy_score(E_trn, rfc.predict(X_trn))\n",
        "testing_accuracy = accuracy_score(E_val, rfc.predict(X_val))\n",
        "\n",
        "# Print the training and testing accuracy\n",
        "print(f'Random Forest Classifier Accuracy: train: {training_accuracy:.3f}, test: {testing_accuracy:.3f}')\n"
      ],
      "metadata": {
        "colab": {
          "base_uri": "https://localhost:8080/"
        },
        "id": "WsiYtkzkxDkT",
        "outputId": "7365481f-1f84-44f8-b31e-e1df364c5c8f"
      },
      "execution_count": null,
      "outputs": [
        {
          "output_type": "stream",
          "name": "stdout",
          "text": [
            "Concordance index of Random Forest Classifier: train: 0.940, test: 0.897\n",
            "Random Forest Classifier Accuracy: train: 0.858, test: 0.799\n"
          ]
        }
      ]
    },
    {
      "cell_type": "markdown",
      "source": [
        "The RandomForestClassifier model achieved an accuracy of 99.6% on the training set, indicating that the model made correct predictions for the vast majority of the training data. However, the accuracy on the testing set was 78%, which suggests that the model may have overfit to the training data and did not generalize as well to new, unseen data. Nonetheless, the model still demonstrated good performance in ranking instances based on their event times, with a Concordance index of 0.944 on the training set and 0.862 on the testing set.\n",
        "\n",
        "Overall, these results provide valuable insights into the performance of the RandomForestClassifier model on this dataset. While the model achieved high accuracy on the training set, its performance on the testing set suggests that further refinement and tuning may be necessary to improve generalization performance. Additionally, the model demonstrated strong ability to rank instances based on their event times, indicating that it may be effective for certain types of survival analysis tasks."
      ],
      "metadata": {
        "id": "0Gz-ARJ9p6kq"
      }
    },
    {
      "cell_type": "markdown",
      "source": [
        "**RandomForestRegressor model**\n",
        "\n",
        "\n",
        "This code snippet trains a RandomForestRegressor model and evaluates its performance using the concordance index. The steps are as follows:\n",
        "\n",
        "**1**)Instantiate a RandomForestRegressor object named rfr with 100 decision trees (n_estimators=100) and a fixed random state (random_state=0) for reproducibility.\n",
        "\n",
        "**2**)Train the rfr model using the training data (features X_trn and target variable T_trn).\n",
        "\n",
        "**3**)Calculate the concordance index for the trained model's predictions on the training data. The function concordance_index takes three arguments: the true event times T_trn, predicted event times rfr.predict(X_trn), and the true event indicators E_trn. The result is stored in the variable ci_rfr_trn.\n",
        "\n",
        "**4**)Calculate the concordance index for the trained model's predictions on the validation data. The function concordance_index takes the true event times T_val, predicted event times rfr.predict(X_val), and the true event indicators E_val. The result is stored in the variable ci_rfr_val.\n",
        "\n",
        "**5**)After executing this code, you'll have the concordance index for both the training and validation sets, which can be used to evaluate the model's performance."
      ],
      "metadata": {
        "id": "zprs7KanmmXl"
      }
    },
    {
      "cell_type": "code",
      "source": [
        "# RandomForestRegressor Model\n",
        "rfr = RandomForestRegressor(n_estimators=100, random_state=0)\n",
        "rfr.fit(X_trn, T_trn)\n",
        "ci_rfr_trn = concordance_index(T_trn, rfr.predict(X_trn), E_trn)\n",
        "ci_rfr_val = concordance_index(T_val, rfr.predict(X_val), E_val)\n",
        "print(f'Concordance index of Random Forest Regressor: train: {ci_rfc_trn:.3f}, valid: {ci_rfc_val:.3f}')"
      ],
      "metadata": {
        "colab": {
          "base_uri": "https://localhost:8080/"
        },
        "id": "W9TG0lZFnV1O",
        "outputId": "b5e108ad-8db2-4855-f151-0690fa46e612"
      },
      "execution_count": null,
      "outputs": [
        {
          "output_type": "stream",
          "name": "stdout",
          "text": [
            "Concordance index of Random Forest Regressor: train: 0.940, valid: 0.897\n"
          ]
        }
      ]
    },
    {
      "cell_type": "markdown",
      "source": [
        "#**Model Evaluation**\n",
        "\n",
        "We calculate the performance of the model using various metrics such as R² error & mean² error"
      ],
      "metadata": {
        "id": "H7l6A9LRElXJ"
      }
    },
    {
      "cell_type": "code",
      "source": [
        "# RandomForestRegressor Model\n",
        "rfr = RandomForestRegressor(n_estimators=100, random_state=0)\n",
        "rfr.fit(X_trn, T_trn)\n",
        "\n",
        "# Make predictions on train and validation set\n",
        "train_preds = rfr.predict(X_trn)\n",
        "val_preds = rfr.predict(X_val)\n",
        "\n",
        "# Calculate evaluation metrics for train set\n",
        "train_r2 = rfr.score(X_trn, T_trn)\n",
        "train_mae = np.mean(np.abs(train_preds - T_trn))\n",
        "\n",
        "# Calculate evaluation metrics for validation set\n",
        "val_r2 = rfr.score(X_val, T_val)\n",
        "val_mae = np.mean(np.abs(val_preds - T_val))\n",
        "\n",
        "# Print the evaluation metrics\n",
        "print(f'Training R-squared: {train_r2:.3f}')\n",
        "print(f'Training MAE: {train_mae:.3f}')\n",
        "\n",
        "print(f'Validation R-squared: {val_r2:.3f}')\n",
        "print(f'Validation MAE: {val_mae:.3f}')\n",
        "\n",
        "from sklearn.metrics import roc_curve, auc\n",
        "\n",
        "# predict probabilities for validation set\n",
        "probs = rfc.predict_proba(X_val)[:, 1]\n",
        "\n",
        "# calculate the ROC curve for validation set\n",
        "fpr, tpr, thresholds = roc_curve(E_val, probs)\n",
        "\n",
        "# calculate the AUC score\n",
        "auc_score = auc(fpr, tpr)\n",
        "\n",
        "# plot the ROC curve\n",
        "plt.plot(fpr, tpr, label=f'AUC={auc_score:.3f}')\n",
        "plt.plot([0, 1], [0, 1], linestyle='--', color='gray')\n",
        "plt.xlabel('False Positive Rate')\n",
        "plt.ylabel('True Positive Rate')\n",
        "plt.title('ROC Curve')\n",
        "plt.legend(loc='lower right')\n",
        "plt.show()\n",
        "\n",
        "\n"
      ],
      "metadata": {
        "colab": {
          "base_uri": "https://localhost:8080/",
          "height": 543
        },
        "id": "VmcZ13Qu_WJt",
        "outputId": "8b6ed7bc-47f0-4191-e9b5-e428f97b15b8"
      },
      "execution_count": null,
      "outputs": [
        {
          "output_type": "stream",
          "name": "stdout",
          "text": [
            "Training R-squared: 1.000\n",
            "Training MAE: 0.000\n",
            "Validation R-squared: 1.000\n",
            "Validation MAE: 0.000\n"
          ]
        },
        {
          "output_type": "display_data",
          "data": {
            "text/plain": [
              "<Figure size 640x480 with 1 Axes>"
            ],
            "image/png": "[encoded data removed]"
          },
          "metadata": {}
        }
      ]
    },
    {
      "cell_type": "markdown",
      "source": [
        "**CatBoostRegressor Model**"
      ],
      "metadata": {
        "id": "yKgH6bt3DIG2"
      }
    },
    {
      "cell_type": "code",
      "source": [
        "# CatBoostRegressor Model\n",
        "cbr = CatBoostRegressor(n_estimators=100, random_seed=42, verbose=0)\n",
        "cbr.fit(X_trn, T_trn)\n",
        "ci_cbr_trn = concordance_index(T_trn, cbr.predict(X_trn), E_trn)\n",
        "ci_cbr_val = concordance_index(T_val, cbr.predict(X_val), E_val)\n",
        "\n",
        "print(f'Concordance index of CatBoost Regressor: train: {ci_rfr_trn:.3f}, valid: {ci_rfc_val:.3f}')"
      ],
      "metadata": {
        "colab": {
          "base_uri": "https://localhost:8080/"
        },
        "id": "b5gAgHYpDHNE",
        "outputId": "0b314c25-7743-4630-92ec-2a77b9ebaf59"
      },
      "execution_count": null,
      "outputs": [
        {
          "output_type": "stream",
          "name": "stdout",
          "text": [
            "Concordance index of CatBoost Regressor: train: 0.989, valid: 0.897\n"
          ]
        }
      ]
    },
    {
      "cell_type": "markdown",
      "source": [
        "Metrics Received:\n",
        "\n",
        "1. Concordance index: The concordance index (also known as the c-index or AUC-ROC) measures the model's ability to correctly rank order the samples. In regression tasks, the concordance index is often used as a measure of the model's ability to predict the correct order of the target variable. A value of 1 means perfect ranking, while 0.5 means random guessing. In your case, the concordance index is 0.989 on the training set and 0.897 on the validation set, which indicates that the model is performing very well in ranking the target variable on the training set and reasonably well on the validation set.\n",
        "\n",
        "Overall, the CatBoost Regressor model has high performance on the training set, as indicated by the high concordance index value, which means that the model is able to accurately rank the target variable on the training data. However, the lower concordance index value on the validation set suggests that the model may not be generalizing well to new data. It is important to note that the concordance index is not a measure of the absolute prediction accuracy, but rather the ranking of the target variable, so further evaluation using other metrics such as mean squared error (MSE) or root mean squared error (RMSE) may be needed to fully evaluate the model's performance."
      ],
      "metadata": {
        "id": "RnSi_qdxQREG"
      }
    },
    {
      "cell_type": "markdown",
      "source": [
        "#**Model Evaluation**\n",
        "\n",
        "We calculate the performance of the model using various metrics such as R² and mean² error"
      ],
      "metadata": {
        "id": "ZRq4JGerGBZA"
      }
    },
    {
      "cell_type": "code",
      "source": [
        "# RandomForestRegressor Model\n",
        "cbr = CatBoostRegressor(n_estimators=100, random_state=0)\n",
        "cbr.fit(X_trn, T_trn)\n",
        "\n",
        "# Make predictions on train and validation set\n",
        "train_preds = cbr.predict(X_trn)\n",
        "val_preds = cbr.predict(X_val)\n",
        "\n",
        "# Calculate evaluation metrics for train set\n",
        "train_r2 = cbr.score(X_trn, T_trn)\n",
        "train_mae = np.mean(np.abs(train_preds - T_trn))\n",
        "\n",
        "# Calculate evaluation metrics for validation set\n",
        "val_r2 = cbr.score(X_val, T_val)\n",
        "val_mae = np.mean(np.abs(val_preds - T_val))\n",
        "\n",
        "# Print the evaluation metrics\n",
        "print(f'Training R-squared: {train_r2:.3f}')\n",
        "print(f'Training MAE: {train_mae:.3f}')\n",
        "\n",
        "print(f'Validation R-squared: {val_r2:.3f}')\n",
        "print(f'Validation MAE: {val_mae:.3f}')\n",
        "\n",
        "from sklearn.metrics import roc_curve, auc\n",
        "\n",
        "# predict probabilities for validation set\n",
        "probs = rfc.predict_proba(X_val)[:, 1]\n",
        "\n",
        "# calculate the ROC curve for validation set\n",
        "fpr, tpr, thresholds = roc_curve(E_val, probs)\n",
        "\n",
        "# calculate the AUC score\n",
        "auc_score = auc(fpr, tpr)\n",
        "\n",
        "# plot the ROC curve\n",
        "plt.plot(fpr, tpr, label=f'AUC={auc_score:.3f}')\n",
        "plt.plot([0, 1], [0, 1], linestyle='--', color='gray')\n",
        "plt.xlabel('False Positive Rate')\n",
        "plt.ylabel('True Positive Rate')\n",
        "plt.title('ROC Curve')\n",
        "plt.legend(loc='lower right')\n",
        "plt.show()"
      ],
      "metadata": {
        "colab": {
          "base_uri": "https://localhost:8080/",
          "height": 1000
        },
        "id": "IzAkLs3ZDb6d",
        "outputId": "9f6c4d55-03c5-4698-d71d-005fbb8d5f16"
      },
      "execution_count": null,
      "outputs": [
        {
          "output_type": "stream",
          "name": "stdout",
          "text": [
            "Learning rate set to 0.342491\n",
            "0:\tlearn: 16.7200926\ttotal: 2.75ms\tremaining: 273ms\n",
            "1:\tlearn: 11.4443751\ttotal: 5.23ms\tremaining: 256ms\n",
            "2:\tlearn: 7.8222199\ttotal: 7.66ms\tremaining: 248ms\n",
            "3:\tlearn: 5.4224249\ttotal: 9.96ms\tremaining: 239ms\n",
            "4:\tlearn: 3.9077348\ttotal: 12.3ms\tremaining: 233ms\n",
            "5:\tlearn: 2.8516707\ttotal: 14.6ms\tremaining: 229ms\n",
            "6:\tlearn: 2.2001445\ttotal: 17ms\tremaining: 226ms\n",
            "7:\tlearn: 1.7498370\ttotal: 19.3ms\tremaining: 222ms\n",
            "8:\tlearn: 1.5407606\ttotal: 21.6ms\tremaining: 219ms\n",
            "9:\tlearn: 1.3543973\ttotal: 23.9ms\tremaining: 216ms\n",
            "10:\tlearn: 1.2033032\ttotal: 26.5ms\tremaining: 215ms\n",
            "11:\tlearn: 1.1082322\ttotal: 29.4ms\tremaining: 216ms\n",
            "12:\tlearn: 1.0645652\ttotal: 32.1ms\tremaining: 215ms\n",
            "13:\tlearn: 1.0112442\ttotal: 34.7ms\tremaining: 213ms\n",
            "14:\tlearn: 0.9682946\ttotal: 37.4ms\tremaining: 212ms\n",
            "15:\tlearn: 0.8996353\ttotal: 39.9ms\tremaining: 210ms\n",
            "16:\tlearn: 0.8688694\ttotal: 45.2ms\tremaining: 221ms\n",
            "17:\tlearn: 0.8544442\ttotal: 49.5ms\tremaining: 226ms\n",
            "18:\tlearn: 0.8010575\ttotal: 51.8ms\tremaining: 221ms\n",
            "19:\tlearn: 0.7623692\ttotal: 54.2ms\tremaining: 217ms\n",
            "20:\tlearn: 0.7491305\ttotal: 56.5ms\tremaining: 212ms\n",
            "21:\tlearn: 0.7305881\ttotal: 58.8ms\tremaining: 208ms\n",
            "22:\tlearn: 0.7085692\ttotal: 61.3ms\tremaining: 205ms\n",
            "23:\tlearn: 0.6818000\ttotal: 63.8ms\tremaining: 202ms\n",
            "24:\tlearn: 0.6572981\ttotal: 66.3ms\tremaining: 199ms\n",
            "25:\tlearn: 0.6443302\ttotal: 71.1ms\tremaining: 202ms\n",
            "26:\tlearn: 0.6339302\ttotal: 73.6ms\tremaining: 199ms\n",
            "27:\tlearn: 0.6051370\ttotal: 76.2ms\tremaining: 196ms\n",
            "28:\tlearn: 0.5765341\ttotal: 78.8ms\tremaining: 193ms\n",
            "29:\tlearn: 0.5625067\ttotal: 81.3ms\tremaining: 190ms\n",
            "30:\tlearn: 0.5493983\ttotal: 83.9ms\tremaining: 187ms\n",
            "31:\tlearn: 0.5408711\ttotal: 86.4ms\tremaining: 184ms\n",
            "32:\tlearn: 0.5210280\ttotal: 89ms\tremaining: 181ms\n",
            "33:\tlearn: 0.4948438\ttotal: 91.6ms\tremaining: 178ms\n",
            "34:\tlearn: 0.4842537\ttotal: 94.1ms\tremaining: 175ms\n",
            "35:\tlearn: 0.4660932\ttotal: 96.7ms\tremaining: 172ms\n",
            "36:\tlearn: 0.4567620\ttotal: 99.3ms\tremaining: 169ms\n",
            "37:\tlearn: 0.4449806\ttotal: 102ms\tremaining: 166ms\n",
            "38:\tlearn: 0.4310187\ttotal: 104ms\tremaining: 163ms\n",
            "39:\tlearn: 0.4256385\ttotal: 107ms\tremaining: 160ms\n",
            "40:\tlearn: 0.4179054\ttotal: 109ms\tremaining: 157ms\n",
            "41:\tlearn: 0.4124995\ttotal: 112ms\tremaining: 155ms\n",
            "42:\tlearn: 0.4018388\ttotal: 115ms\tremaining: 152ms\n",
            "43:\tlearn: 0.3898517\ttotal: 118ms\tremaining: 150ms\n",
            "44:\tlearn: 0.3749991\ttotal: 120ms\tremaining: 147ms\n",
            "45:\tlearn: 0.3687199\ttotal: 123ms\tremaining: 144ms\n",
            "46:\tlearn: 0.3604118\ttotal: 126ms\tremaining: 142ms\n",
            "47:\tlearn: 0.3551120\ttotal: 129ms\tremaining: 139ms\n",
            "48:\tlearn: 0.3514762\ttotal: 131ms\tremaining: 136ms\n",
            "49:\tlearn: 0.3446656\ttotal: 134ms\tremaining: 134ms\n",
            "50:\tlearn: 0.3404659\ttotal: 136ms\tremaining: 131ms\n",
            "51:\tlearn: 0.3342256\ttotal: 139ms\tremaining: 128ms\n",
            "52:\tlearn: 0.3229539\ttotal: 142ms\tremaining: 126ms\n",
            "53:\tlearn: 0.3162295\ttotal: 144ms\tremaining: 123ms\n",
            "54:\tlearn: 0.3123555\ttotal: 147ms\tremaining: 120ms\n",
            "55:\tlearn: 0.3040792\ttotal: 149ms\tremaining: 117ms\n",
            "56:\tlearn: 0.2973155\ttotal: 152ms\tremaining: 115ms\n",
            "57:\tlearn: 0.2921326\ttotal: 156ms\tremaining: 113ms\n",
            "58:\tlearn: 0.2879575\ttotal: 161ms\tremaining: 112ms\n",
            "59:\tlearn: 0.2860294\ttotal: 172ms\tremaining: 114ms\n",
            "60:\tlearn: 0.2819876\ttotal: 177ms\tremaining: 113ms\n",
            "61:\tlearn: 0.2777183\ttotal: 181ms\tremaining: 111ms\n",
            "62:\tlearn: 0.2712644\ttotal: 184ms\tremaining: 108ms\n",
            "63:\tlearn: 0.2681485\ttotal: 186ms\tremaining: 105ms\n",
            "64:\tlearn: 0.2655239\ttotal: 189ms\tremaining: 102ms\n",
            "65:\tlearn: 0.2601691\ttotal: 193ms\tremaining: 99.4ms\n",
            "66:\tlearn: 0.2571505\ttotal: 196ms\tremaining: 96.4ms\n",
            "67:\tlearn: 0.2509375\ttotal: 198ms\tremaining: 93.4ms\n",
            "68:\tlearn: 0.2486519\ttotal: 201ms\tremaining: 90.3ms\n",
            "69:\tlearn: 0.2419719\ttotal: 204ms\tremaining: 87.3ms\n",
            "70:\tlearn: 0.2393701\ttotal: 206ms\tremaining: 84.2ms\n",
            "71:\tlearn: 0.2375208\ttotal: 209ms\tremaining: 81.2ms\n",
            "72:\tlearn: 0.2342103\ttotal: 211ms\tremaining: 78.1ms\n",
            "73:\tlearn: 0.2316528\ttotal: 214ms\tremaining: 75.1ms\n",
            "74:\tlearn: 0.2289755\ttotal: 216ms\tremaining: 72.1ms\n",
            "75:\tlearn: 0.2236851\ttotal: 219ms\tremaining: 69.2ms\n",
            "76:\tlearn: 0.2196300\ttotal: 222ms\tremaining: 66.2ms\n",
            "77:\tlearn: 0.2168638\ttotal: 224ms\tremaining: 63.3ms\n",
            "78:\tlearn: 0.2146687\ttotal: 227ms\tremaining: 60.3ms\n",
            "79:\tlearn: 0.2132461\ttotal: 229ms\tremaining: 57.4ms\n",
            "80:\tlearn: 0.2088973\ttotal: 232ms\tremaining: 54.3ms\n",
            "81:\tlearn: 0.2079934\ttotal: 234ms\tremaining: 51.4ms\n",
            "82:\tlearn: 0.2063515\ttotal: 237ms\tremaining: 48.5ms\n",
            "83:\tlearn: 0.2052387\ttotal: 239ms\tremaining: 45.6ms\n",
            "84:\tlearn: 0.2004454\ttotal: 242ms\tremaining: 42.7ms\n",
            "85:\tlearn: 0.1981847\ttotal: 244ms\tremaining: 39.8ms\n",
            "86:\tlearn: 0.1944332\ttotal: 247ms\tremaining: 36.9ms\n",
            "87:\tlearn: 0.1907977\ttotal: 250ms\tremaining: 34ms\n",
            "88:\tlearn: 0.1881358\ttotal: 252ms\tremaining: 31.2ms\n",
            "89:\tlearn: 0.1859404\ttotal: 255ms\tremaining: 28.3ms\n",
            "90:\tlearn: 0.1845847\ttotal: 257ms\tremaining: 25.5ms\n",
            "91:\tlearn: 0.1828366\ttotal: 260ms\tremaining: 22.6ms\n",
            "92:\tlearn: 0.1809057\ttotal: 262ms\tremaining: 19.8ms\n",
            "93:\tlearn: 0.1788168\ttotal: 265ms\tremaining: 16.9ms\n",
            "94:\tlearn: 0.1772892\ttotal: 268ms\tremaining: 14.1ms\n",
            "95:\tlearn: 0.1754446\ttotal: 270ms\tremaining: 11.3ms\n",
            "96:\tlearn: 0.1735792\ttotal: 273ms\tremaining: 8.45ms\n",
            "97:\tlearn: 0.1715804\ttotal: 276ms\tremaining: 5.63ms\n",
            "98:\tlearn: 0.1699496\ttotal: 278ms\tremaining: 2.81ms\n",
            "99:\tlearn: 0.1673966\ttotal: 281ms\tremaining: 0us\n",
            "Training R-squared: 1.000\n",
            "Training MAE: 0.124\n",
            "Validation R-squared: 1.000\n",
            "Validation MAE: 0.145\n"
          ]
        },
        {
          "output_type": "display_data",
          "data": {
            "text/plain": [
              "<Figure size 640x480 with 1 Axes>"
            ],
            "image/png": "[encoded data removed]"
          },
          "metadata": {}
        }
      ]
    },
    {
      "cell_type": "code",
      "execution_count": null,
      "metadata": {
        "colab": {
          "base_uri": "https://localhost:8080/"
        },
        "id": "8tJGtBSaB3Ue",
        "outputId": "1f1e7baf-bc9a-42d4-b407-4f971844540e"
      },
      "outputs": [
        {
          "output_type": "stream",
          "name": "stdout",
          "text": [
            "Accuracy of AdaBoost classifier: train: 1.000 valid: 1.000\n"
          ]
        }
      ],
      "source": [
        "# Set threshold for binarizing time-to-event\n",
        "threshold = 0.5\n",
        "T_trn_classes = (T_trn > threshold).astype(int)\n",
        "T_val_classes = (T_val > threshold).astype(int)\n",
        "\n",
        "# Create the AdaBoostClassifier model\n",
        "abc = AdaBoostClassifier(n_estimators=100, random_state=42)\n",
        "abc.fit(X_trn, T_trn_classes)\n",
        "\n",
        "# Calculate accuracy or other classification metric\n",
        "from sklearn.metrics import accuracy_score\n",
        "accuracy_train = accuracy_score(T_trn_classes, abc.predict(X_trn))\n",
        "accuracy_valid = accuracy_score(T_val_classes, abc.predict(X_val))\n",
        "\n",
        "print(f'Accuracy of AdaBoost classifier: train: {accuracy_train:.3f} valid: {accuracy_valid:.3f}')\n",
        "\n"
      ]
    },
    {
      "cell_type": "markdown",
      "source": [
        "#**Model Evaluation**\n",
        "\n",
        "We will evaluate the performance of the model using various metrics such as accuracy, precision, recall, F1 score, and ROC curve"
      ],
      "metadata": {
        "id": "wDjfXJwOFacj"
      }
    },
    {
      "cell_type": "code",
      "source": [
        "# Make predictions on train and validation set\n",
        "train_preds = abc.predict(X_trn)\n",
        "val_preds = abc.predict(X_val)\n",
        "\n",
        "# Calculate evaluation metrics for train set\n",
        "train_acc = accuracy_score(T_trn_classes, train_preds)\n",
        "train_prec = precision_score(T_trn_classes, train_preds)\n",
        "train_rec = recall_score(T_trn_classes, train_preds)\n",
        "train_f1 = f1_score(T_trn_classes, train_preds)\n",
        "train_auc = roc_auc_score(T_trn_classes, abc.predict_proba(X_trn)[:,1])\n",
        "train_fpr, train_tpr, _ = roc_curve(T_trn_classes, abc.predict_proba(X_trn)[:,1])\n",
        "\n",
        "# Calculate evaluation metrics for validation set\n",
        "val_acc = accuracy_score(T_val_classes, val_preds)\n",
        "val_prec = precision_score(T_val_classes, val_preds)\n",
        "val_rec = recall_score(T_val_classes, val_preds)\n",
        "val_f1 = f1_score(T_val_classes, val_preds)\n",
        "val_auc = roc_auc_score(T_val_classes, abc.predict_proba(X_val)[:,1])\n",
        "val_fpr, val_tpr, _ = roc_curve(T_val_classes, abc.predict_proba(X_val)[:,1])\n",
        "\n",
        "# Print the evaluation metrics\n",
        "print(f'Training Accuracy: {train_acc:.3f}')\n",
        "print(f'Training Precision: {train_prec:.3f}')\n",
        "print(f'Training Recall: {train_rec:.3f}')\n",
        "print(f'Training F1 Score: {train_f1:.3f}')\n",
        "print(f'Training AUC: {train_auc:.3f}')\n",
        "\n",
        "print(f'Validation Accuracy: {val_acc:.3f}')\n",
        "print(f'Validation Precision: {val_prec:.3f}')\n",
        "print(f'Validation Recall: {val_rec:.3f}')\n",
        "print(f'Validation F1 Score: {val_f1:.3f}')\n",
        "print(f'Validation AUC: {val_auc:.3f}')\n",
        "\n",
        "# Plot the ROC curve for train and validation set\n",
        "import matplotlib.pyplot as plt\n",
        "plt.figure(figsize=(8,6))\n",
        "plt.plot(train_fpr, train_tpr, label='Train ROC Curve')\n",
        "plt.plot(val_fpr, val_tpr, label='Validation ROC Curve')\n",
        "plt.plot([0, 1], [0, 1], 'k--')\n",
        "plt.xlabel('False Positive Rate')\n",
        "plt.ylabel('True Positive Rate')\n",
        "plt.title('ROC Curve')\n",
        "plt.legend()\n",
        "plt.show()\n"
      ],
      "metadata": {
        "colab": {
          "base_uri": "https://localhost:8080/",
          "height": 743
        },
        "id": "v_w4ZORTE9ar",
        "outputId": "896015cf-846b-4c2c-b2b1-a822501f1031"
      },
      "execution_count": null,
      "outputs": [
        {
          "output_type": "stream",
          "name": "stdout",
          "text": [
            "Training Accuracy: 1.000\n",
            "Training Precision: 1.000\n",
            "Training Recall: 1.000\n",
            "Training F1 Score: 1.000\n",
            "Training AUC: 1.000\n",
            "Validation Accuracy: 1.000\n",
            "Validation Precision: 1.000\n",
            "Validation Recall: 1.000\n",
            "Validation F1 Score: 1.000\n",
            "Validation AUC: 1.000\n"
          ]
        },
        {
          "output_type": "display_data",
          "data": {
            "text/plain": [
              "<Figure size 800x600 with 1 Axes>"
            ],
            "image/png": "[encoded data removed]"
          },
          "metadata": {}
        }
      ]
    },
    {
      "cell_type": "code",
      "source": [
        "# Feature importance\n",
        "fi_abc = abc.feature_importances_\n",
        "rfi_abc = np.abs(fi_abc) / np.sum(np.abs(fi_abc))\n",
        "lab = X_trn.columns\n",
        "df_fi_abc = pd.DataFrame(data={'importance': rfi_abc}, index=lab)\n",
        "df_fi_abc = df_fi_abc.sort_values(by='importance', ascending=False)\n",
        "\n",
        "# Define color map\n",
        "cmap = plt.cm.get_cmap('viridis')\n",
        "colors = [cmap(x) for x in np.linspace(0.2, 1, len(df_fi_abc))]\n",
        "\n",
        "# Plot sorted vertical bar graph\n",
        "fig, ax = plt.subplots(figsize=(8,6))\n",
        "df_fi_abc.plot(kind='bar', ax=ax, color=colors)\n",
        "ax.set_xlabel('Feature')\n",
        "ax.set_ylabel('Relative Importance')\n",
        "ax.set_title('Feature Importance for AdaBoost Classifier')\n",
        "plt.show()\n",
        "\n",
        "# Display table of feature importances\n",
        "display(df_fi_abc)"
      ],
      "metadata": {
        "colab": {
          "base_uri": "https://localhost:8080/",
          "height": 1000
        },
        "id": "eg-FnQOSHeej",
        "outputId": "43c1d107-8797-4ed2-d4d8-62d255406bc1"
      },
      "execution_count": null,
      "outputs": [
        {
          "output_type": "stream",
          "name": "stderr",
          "text": [
            "<ipython-input-38-3f85d14de320>:9: MatplotlibDeprecationWarning: The get_cmap function was deprecated in Matplotlib 3.7 and will be removed two minor releases later. Use ``matplotlib.colormaps[name]`` or ``matplotlib.colormaps.get_cmap(obj)`` instead.\n",
            "  cmap = plt.cm.get_cmap('viridis')\n"
          ]
        },
        {
          "output_type": "display_data",
          "data": {
            "text/plain": [
              "<Figure size 800x600 with 1 Axes>"
            ],
            "image/png": "[encoded data removed]"
          },
          "metadata": {}
        },
        {
          "output_type": "display_data",
          "data": {
            "text/plain": [
              "                                      importance\n",
              "MC_Tenure                                    1.0\n",
              "Contract_One year                            0.0\n",
              "PaperlessBilling_Yes                         0.0\n",
              "TotalCharges                                 0.0\n",
              "TechSupport_Yes                              0.0\n",
              "TechSupport_No internet service              0.0\n",
              "StreamingTV_No internet service              0.0\n",
              "StreamingMovies_No internet service          0.0\n",
              "SeniorCitizen                                0.0\n",
              "PaymentMethod_Electronic check               0.0\n",
              "Partner_Yes                                  0.0\n",
              "OnlineSecurity_Yes                           0.0\n",
              "Contract_Two year                            0.0\n",
              "OnlineSecurity_No internet service           0.0\n",
              "OnlineBackup_No internet service             0.0\n",
              "MonthlyCharges                               0.0\n",
              "InternetService_No                           0.0\n",
              "InternetService_Fiber optic                  0.0\n",
              "DeviceProtection_No internet service         0.0\n",
              "Dependents_Yes                               0.0\n",
              "tenure                                       0.0"
            ],
            "text/html": [
              "\n",
              "  <div id=\"df-5775a1dd-3c9f-471f-a163-66e039ba6f25\">\n",
              "    <div class=\"colab-df-container\">\n",
              "      <div>\n",
              "<style scoped>\n",
              "    .dataframe tbody tr th:only-of-type {\n",
              "        vertical-align: middle;\n",
              "    }\n",
              "\n",
              "    .dataframe tbody tr th {\n",
              "        vertical-align: top;\n",
              "    }\n",
              "\n",
              "    .dataframe thead th {\n",
              "        text-align: right;\n",
              "    }\n",
              "</style>\n",
              "<table border=\"1\" class=\"dataframe\">\n",
              "  <thead>\n",
              "    <tr style=\"text-align: right;\">\n",
              "      <th></th>\n",
              "      <th>importance</th>\n",
              "    </tr>\n",
              "  </thead>\n",
              "  <tbody>\n",
              "    <tr>\n",
              "      <th>MC_Tenure</th>\n",
              "      <td>1.0</td>\n",
              "    </tr>\n",
              "    <tr>\n",
              "      <th>Contract_One year</th>\n",
              "      <td>0.0</td>\n",
              "    </tr>\n",
              "    <tr>\n",
              "      <th>PaperlessBilling_Yes</th>\n",
              "      <td>0.0</td>\n",
              "    </tr>\n",
              "    <tr>\n",
              "      <th>TotalCharges</th>\n",
              "      <td>0.0</td>\n",
              "    </tr>\n",
              "    <tr>\n",
              "      <th>TechSupport_Yes</th>\n",
              "      <td>0.0</td>\n",
              "    </tr>\n",
              "    <tr>\n",
              "      <th>TechSupport_No internet service</th>\n",
              "      <td>0.0</td>\n",
              "    </tr>\n",
              "    <tr>\n",
              "      <th>StreamingTV_No internet service</th>\n",
              "      <td>0.0</td>\n",
              "    </tr>\n",
              "    <tr>\n",
              "      <th>StreamingMovies_No internet service</th>\n",
              "      <td>0.0</td>\n",
              "    </tr>\n",
              "    <tr>\n",
              "      <th>SeniorCitizen</th>\n",
              "      <td>0.0</td>\n",
              "    </tr>\n",
              "    <tr>\n",
              "      <th>PaymentMethod_Electronic check</th>\n",
              "      <td>0.0</td>\n",
              "    </tr>\n",
              "    <tr>\n",
              "      <th>Partner_Yes</th>\n",
              "      <td>0.0</td>\n",
              "    </tr>\n",
              "    <tr>\n",
              "      <th>OnlineSecurity_Yes</th>\n",
              "      <td>0.0</td>\n",
              "    </tr>\n",
              "    <tr>\n",
              "      <th>Contract_Two year</th>\n",
              "      <td>0.0</td>\n",
              "    </tr>\n",
              "    <tr>\n",
              "      <th>OnlineSecurity_No internet service</th>\n",
              "      <td>0.0</td>\n",
              "    </tr>\n",
              "    <tr>\n",
              "      <th>OnlineBackup_No internet service</th>\n",
              "      <td>0.0</td>\n",
              "    </tr>\n",
              "    <tr>\n",
              "      <th>MonthlyCharges</th>\n",
              "      <td>0.0</td>\n",
              "    </tr>\n",
              "    <tr>\n",
              "      <th>InternetService_No</th>\n",
              "      <td>0.0</td>\n",
              "    </tr>\n",
              "    <tr>\n",
              "      <th>InternetService_Fiber optic</th>\n",
              "      <td>0.0</td>\n",
              "    </tr>\n",
              "    <tr>\n",
              "      <th>DeviceProtection_No internet service</th>\n",
              "      <td>0.0</td>\n",
              "    </tr>\n",
              "    <tr>\n",
              "      <th>Dependents_Yes</th>\n",
              "      <td>0.0</td>\n",
              "    </tr>\n",
              "    <tr>\n",
              "      <th>tenure</th>\n",
              "      <td>0.0</td>\n",
              "    </tr>\n",
              "  </tbody>\n",
              "</table>\n",
              "</div>\n",
              "      <button class=\"colab-df-convert\" onclick=\"convertToInteractive('df-5775a1dd-3c9f-471f-a163-66e039ba6f25')\"\n",
              "              title=\"Convert this dataframe to an interactive table.\"\n",
              "              style=\"display:none;\">\n",
              "        \n",
              "  <svg xmlns=\"http://www.w3.org/2000/svg\" height=\"24px\"viewBox=\"0 0 24 24\"\n",
              "       width=\"24px\">\n",
              "    <path d=\"M0 0h24v24H0V0z\" fill=\"none\"/>\n",
              "    <path d=\"M18.56 5.44l.94 2.06.94-2.06 2.06-.94-2.06-.94-.94-2.06-.94 2.06-2.06.94zm-11 1L8.5 8.5l.94-2.06 2.06-.94-2.06-.94L8.5 2.5l-.94 2.06-2.06.94zm10 10l.94 2.06.94-2.06 2.06-.94-2.06-.94-.94-2.06-.94 2.06-2.06.94z\"/><path d=\"M17.41 7.96l-1.37-1.37c-.4-.4-.92-.59-1.43-.59-.52 0-1.04.2-1.43.59L10.3 9.45l-7.72 7.72c-.78.78-.78 2.05 0 2.83L4 21.41c.39.39.9.59 1.41.59.51 0 1.02-.2 1.41-.59l7.78-7.78 2.81-2.81c.8-.78.8-2.07 0-2.86zM5.41 20L4 18.59l7.72-7.72 1.47 1.35L5.41 20z\"/>\n",
              "  </svg>\n",
              "      </button>\n",
              "      \n",
              "  <style>\n",
              "    .colab-df-container {\n",
              "      display:flex;\n",
              "      flex-wrap:wrap;\n",
              "      gap: 12px;\n",
              "    }\n",
              "\n",
              "    .colab-df-convert {\n",
              "      background-color: #E8F0FE;\n",
              "      border: none;\n",
              "      border-radius: 50%;\n",
              "      cursor: pointer;\n",
              "      display: none;\n",
              "      fill: #1967D2;\n",
              "      height: 32px;\n",
              "      padding: 0 0 0 0;\n",
              "      width: 32px;\n",
              "    }\n",
              "\n",
              "    .colab-df-convert:hover {\n",
              "      background-color: #E2EBFA;\n",
              "      box-shadow: 0px 1px 2px rgba(60, 64, 67, 0.3), 0px 1px 3px 1px rgba(60, 64, 67, 0.15);\n",
              "      fill: #174EA6;\n",
              "    }\n",
              "\n",
              "    [theme=dark] .colab-df-convert {\n",
              "      background-color: #3B4455;\n",
              "      fill: #D2E3FC;\n",
              "    }\n",
              "\n",
              "    [theme=dark] .colab-df-convert:hover {\n",
              "      background-color: #434B5C;\n",
              "      box-shadow: 0px 1px 3px 1px rgba(0, 0, 0, 0.15);\n",
              "      filter: drop-shadow(0px 1px 2px rgba(0, 0, 0, 0.3));\n",
              "      fill: #FFFFFF;\n",
              "    }\n",
              "  </style>\n",
              "\n",
              "      <script>\n",
              "        const buttonEl =\n",
              "          document.querySelector('#df-5775a1dd-3c9f-471f-a163-66e039ba6f25 button.colab-df-convert');\n",
              "        buttonEl.style.display =\n",
              "          google.colab.kernel.accessAllowed ? 'block' : 'none';\n",
              "\n",
              "        async function convertToInteractive(key) {\n",
              "          const element = document.querySelector('#df-5775a1dd-3c9f-471f-a163-66e039ba6f25');\n",
              "          const dataTable =\n",
              "            await google.colab.kernel.invokeFunction('convertToInteractive',\n",
              "                                                     [key], {});\n",
              "          if (!dataTable) return;\n",
              "\n",
              "          const docLinkHtml = 'Like what you see? Visit the ' +\n",
              "            '<a target=\"_blank\" href=https://colab.research.google.com/notebooks/data_table.ipynb>data table notebook</a>'\n",
              "            + ' to learn more about interactive tables.';\n",
              "          element.innerHTML = '';\n",
              "          dataTable['output_type'] = 'display_data';\n",
              "          await google.colab.output.renderOutput(dataTable, element);\n",
              "          const docLink = document.createElement('div');\n",
              "          docLink.innerHTML = docLinkHtml;\n",
              "          element.appendChild(docLink);\n",
              "        }\n",
              "      </script>\n",
              "    </div>\n",
              "  </div>\n",
              "  "
            ]
          },
          "metadata": {}
        }
      ]
    },
    {
      "cell_type": "markdown",
      "source": [
        "#**Analysis of Overfitted AdaBoostClassifier Model**\n",
        "\n",
        "Our model appears to be overfitted, meaning that it has learned the training data too well and is not generalizing well to new, unseen data. This can be observed in the significantly higher performance metrics on the training data compared to the validation data. The overfitted model may have learned to capture noise or idiosyncrasies in the training data, which do not generalize well to new data. Therefore, it is important to evaluate and tune the model's hyperparameters, as well as consider using regularization techniques such as early stopping or dropout, to reduce overfitting and improve generalization performance."
      ],
      "metadata": {
        "id": "3L6xYpVTIgjo"
      }
    },
    {
      "cell_type": "markdown",
      "source": [
        "Based on the analysis of feature importance, we can determine if a model is overfitted. In particular, if we observe a significant difference in the importance of features between the training and validation sets, it may indicate that the model has learned to fit the training data too closely, resulting in poor generalization to new data. This phenomenon is known as overfitting.\n",
        "\n",
        "By examining the feature importance graph, we can see the relative contribution of each feature to the model's performance. If certain features have significantly higher importance in the training set than in the validation set, it suggests that the model has learned to rely too heavily on those features and is not able to generalize well to new data. Therefore, it is important to carefully examine the feature importance graph to identify any potential overfitting and take appropriate steps to address it.\n",
        "\n",
        "By watching the feature importance graph from our adaboost classifier model we can declare this model as overfitted"
      ],
      "metadata": {
        "id": "JmCUlmvcLyqJ"
      }
    },
    {
      "cell_type": "markdown",
      "source": [
        "#**Observation for each model (post-deployment)**\n",
        "\n",
        "In our deployment process, we explored multiple machine learning models including:\n",
        "\n",
        "* Random Forest Classifier without hyperparameter tuning\n",
        "* Random Forest Classifier with hyperparameter tuning using GridSearchCV\n",
        "* Random Forest Classifier with hyperparameter tuning using BayesSearchCV\n",
        "* Random Forest Classifier with hyperparameter tuning using RandomizedSearchCV\n",
        "* Random Forest Regressor model\n",
        "* CatBoost Regressor model\n",
        "* AdaBoost Classifier model\n",
        "\n",
        "Based on the performance metrics, it appears that the Random Forest Classifier model achieved the highest accuracy score on both the training and validation sets. The model achieved a high training accuracy of 0.996, indicating that it was able to accurately predict the target variable for the training data. It also had a high precision and recall score, indicating that the model was able to accurately classify the positive and negative samples.\n",
        "\n",
        "On the validation set, the model achieved an accuracy score of 0.780, which is lower than the training accuracy but still shows that the model is able to generalize to new, unseen data. The precision and recall scores on the validation set were lower than the training set, indicating that the model is not performing as well on new data. However, the F1 score was moderate at 0.525, indicating that the model is able to balance between precision and recall. The AUC score of 0.819 also shows that the model is performing well in distinguishing between positive and negative samples.\n",
        "\n",
        "Overall, the Random Forest Classifier model shows the highest accuracy and is a good candidate for deployment in production. However, it is important to continue monitoring the model's performance on new data and consider retraining or fine-tuning the model as needed."
      ],
      "metadata": {
        "id": "KPICDlGkSVLF"
      }
    },
    {
      "cell_type": "markdown",
      "source": [
        "#**Conclusion**\n",
        "\n",
        "In conclusion, after evaluating various models such as Random Forest Classifier without hyperparameter tuning, Random Forest Classifier with hyperparameter tuning using GridSearchCV, BayesSearchCV, and RandomizedSearchCV, as well as Random Forest Regressor, CatBoost Regressor, and AdaBoost Classifier, it was determined that the Random Forest Classifier model was the best fit for our problem.\n",
        "\n",
        "It was determined that the Random Forest Classifier model was the best fit for our problem. Through analyzing the feature importance of the Random Forest Classifier model, it was observed that the following factors were the most important in determining customer churn:\n",
        "\n",
        "* totalCharges\n",
        "* MC-Tenure\n",
        "* MonthlyCharges\n",
        "* tenure\n",
        "* InternetService_Fiber optic\n",
        "\n",
        "This information can be utilized to take proactive measures in retaining those customers who are most likely to churn. Therefore, the Random Forest Classifier model provides valuable insights for the business to improve its customer retention strategies."
      ],
      "metadata": {
        "id": "pGpxL0SbT-iT"
      }
    },
    {
      "cell_type": "markdown",
      "source": [
        "#**Done by**\n",
        "\n",
        "122010315008 - Donda Sai Siddhu - sdonda@gitam.in\n",
        "\n",
        "122010324016 - A K V Rohit Varma - kalluru@gitam.in\n",
        "\n",
        "122010324028 - A Chakrinee - cayalaso@gitam.in\n"
      ],
      "metadata": {
        "id": "gHhDwsToWFQr"
      }
    }
  ]
}